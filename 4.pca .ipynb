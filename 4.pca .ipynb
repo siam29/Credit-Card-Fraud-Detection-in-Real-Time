{
 "cells": [
  {
   "cell_type": "code",
   "execution_count": 1,
   "metadata": {
    "_cell_guid": "b1076dfc-b9ad-4769-8c92-a6c4dae69d19",
    "_uuid": "8f2839f25d086af736a60e9eeb907d3b93b6e0e5",
    "execution": {
     "iopub.execute_input": "2024-03-07T11:44:23.656210Z",
     "iopub.status.busy": "2024-03-07T11:44:23.655082Z",
     "iopub.status.idle": "2024-03-07T11:44:27.899867Z",
     "shell.execute_reply": "2024-03-07T11:44:27.898561Z",
     "shell.execute_reply.started": "2024-03-07T11:44:23.656166Z"
    }
   },
   "outputs": [],
   "source": [
    "import matplotlib.pyplot as plt\n",
    "import numpy as np\n",
    "import pandas as pd\n",
    "import seaborn as sns\n",
    "import warnings\n",
    "from imblearn.over_sampling import SMOTE\n",
    "from imblearn.pipeline import make_pipeline\n",
    "from pylab import rcParams\n",
    "from sklearn.linear_model import LogisticRegression\n",
    "from xgboost import XGBClassifier\n",
    "from sklearn.metrics import accuracy_score\n",
    "from sklearn.metrics import precision_score, recall_score\n",
    "from sklearn.metrics import f1_score, roc_auc_score, roc_curve\n",
    "from sklearn.model_selection import train_test_split\n",
    "from sklearn.model_selection import GridSearchCV\n",
    "from sklearn.metrics import confusion_matrix \n",
    "from time import perf_counter\n",
    "from time import process_time\n",
    "# Import functions created for this course\n",
    "import timeit"
   ]
  },
  {
   "cell_type": "code",
   "execution_count": 2,
   "metadata": {
    "execution": {
     "iopub.execute_input": "2024-03-07T11:44:27.910619Z",
     "iopub.status.busy": "2024-03-07T11:44:27.908809Z",
     "iopub.status.idle": "2024-03-07T11:44:32.835120Z",
     "shell.execute_reply": "2024-03-07T11:44:32.833955Z",
     "shell.execute_reply.started": "2024-03-07T11:44:27.910562Z"
    }
   },
   "outputs": [
    {
     "data": {
      "text/html": [
       "<div>\n",
       "<style scoped>\n",
       "    .dataframe tbody tr th:only-of-type {\n",
       "        vertical-align: middle;\n",
       "    }\n",
       "\n",
       "    .dataframe tbody tr th {\n",
       "        vertical-align: top;\n",
       "    }\n",
       "\n",
       "    .dataframe thead th {\n",
       "        text-align: right;\n",
       "    }\n",
       "</style>\n",
       "<table border=\"1\" class=\"dataframe\">\n",
       "  <thead>\n",
       "    <tr style=\"text-align: right;\">\n",
       "      <th></th>\n",
       "      <th>Time</th>\n",
       "      <th>V1</th>\n",
       "      <th>V2</th>\n",
       "      <th>V3</th>\n",
       "      <th>V4</th>\n",
       "      <th>V5</th>\n",
       "      <th>V6</th>\n",
       "      <th>V7</th>\n",
       "      <th>V8</th>\n",
       "      <th>V9</th>\n",
       "      <th>...</th>\n",
       "      <th>V21</th>\n",
       "      <th>V22</th>\n",
       "      <th>V23</th>\n",
       "      <th>V24</th>\n",
       "      <th>V25</th>\n",
       "      <th>V26</th>\n",
       "      <th>V27</th>\n",
       "      <th>V28</th>\n",
       "      <th>Amount</th>\n",
       "      <th>Class</th>\n",
       "    </tr>\n",
       "  </thead>\n",
       "  <tbody>\n",
       "    <tr>\n",
       "      <th>0</th>\n",
       "      <td>0.0</td>\n",
       "      <td>-1.359807</td>\n",
       "      <td>-0.072781</td>\n",
       "      <td>2.536347</td>\n",
       "      <td>1.378155</td>\n",
       "      <td>-0.338321</td>\n",
       "      <td>0.462388</td>\n",
       "      <td>0.239599</td>\n",
       "      <td>0.098698</td>\n",
       "      <td>0.363787</td>\n",
       "      <td>...</td>\n",
       "      <td>-0.018307</td>\n",
       "      <td>0.277838</td>\n",
       "      <td>-0.110474</td>\n",
       "      <td>0.066928</td>\n",
       "      <td>0.128539</td>\n",
       "      <td>-0.189115</td>\n",
       "      <td>0.133558</td>\n",
       "      <td>-0.021053</td>\n",
       "      <td>149.62</td>\n",
       "      <td>0</td>\n",
       "    </tr>\n",
       "    <tr>\n",
       "      <th>1</th>\n",
       "      <td>0.0</td>\n",
       "      <td>1.191857</td>\n",
       "      <td>0.266151</td>\n",
       "      <td>0.166480</td>\n",
       "      <td>0.448154</td>\n",
       "      <td>0.060018</td>\n",
       "      <td>-0.082361</td>\n",
       "      <td>-0.078803</td>\n",
       "      <td>0.085102</td>\n",
       "      <td>-0.255425</td>\n",
       "      <td>...</td>\n",
       "      <td>-0.225775</td>\n",
       "      <td>-0.638672</td>\n",
       "      <td>0.101288</td>\n",
       "      <td>-0.339846</td>\n",
       "      <td>0.167170</td>\n",
       "      <td>0.125895</td>\n",
       "      <td>-0.008983</td>\n",
       "      <td>0.014724</td>\n",
       "      <td>2.69</td>\n",
       "      <td>0</td>\n",
       "    </tr>\n",
       "    <tr>\n",
       "      <th>2</th>\n",
       "      <td>1.0</td>\n",
       "      <td>-1.358354</td>\n",
       "      <td>-1.340163</td>\n",
       "      <td>1.773209</td>\n",
       "      <td>0.379780</td>\n",
       "      <td>-0.503198</td>\n",
       "      <td>1.800499</td>\n",
       "      <td>0.791461</td>\n",
       "      <td>0.247676</td>\n",
       "      <td>-1.514654</td>\n",
       "      <td>...</td>\n",
       "      <td>0.247998</td>\n",
       "      <td>0.771679</td>\n",
       "      <td>0.909412</td>\n",
       "      <td>-0.689281</td>\n",
       "      <td>-0.327642</td>\n",
       "      <td>-0.139097</td>\n",
       "      <td>-0.055353</td>\n",
       "      <td>-0.059752</td>\n",
       "      <td>378.66</td>\n",
       "      <td>0</td>\n",
       "    </tr>\n",
       "    <tr>\n",
       "      <th>3</th>\n",
       "      <td>1.0</td>\n",
       "      <td>-0.966272</td>\n",
       "      <td>-0.185226</td>\n",
       "      <td>1.792993</td>\n",
       "      <td>-0.863291</td>\n",
       "      <td>-0.010309</td>\n",
       "      <td>1.247203</td>\n",
       "      <td>0.237609</td>\n",
       "      <td>0.377436</td>\n",
       "      <td>-1.387024</td>\n",
       "      <td>...</td>\n",
       "      <td>-0.108300</td>\n",
       "      <td>0.005274</td>\n",
       "      <td>-0.190321</td>\n",
       "      <td>-1.175575</td>\n",
       "      <td>0.647376</td>\n",
       "      <td>-0.221929</td>\n",
       "      <td>0.062723</td>\n",
       "      <td>0.061458</td>\n",
       "      <td>123.50</td>\n",
       "      <td>0</td>\n",
       "    </tr>\n",
       "    <tr>\n",
       "      <th>4</th>\n",
       "      <td>2.0</td>\n",
       "      <td>-1.158233</td>\n",
       "      <td>0.877737</td>\n",
       "      <td>1.548718</td>\n",
       "      <td>0.403034</td>\n",
       "      <td>-0.407193</td>\n",
       "      <td>0.095921</td>\n",
       "      <td>0.592941</td>\n",
       "      <td>-0.270533</td>\n",
       "      <td>0.817739</td>\n",
       "      <td>...</td>\n",
       "      <td>-0.009431</td>\n",
       "      <td>0.798278</td>\n",
       "      <td>-0.137458</td>\n",
       "      <td>0.141267</td>\n",
       "      <td>-0.206010</td>\n",
       "      <td>0.502292</td>\n",
       "      <td>0.219422</td>\n",
       "      <td>0.215153</td>\n",
       "      <td>69.99</td>\n",
       "      <td>0</td>\n",
       "    </tr>\n",
       "    <tr>\n",
       "      <th>...</th>\n",
       "      <td>...</td>\n",
       "      <td>...</td>\n",
       "      <td>...</td>\n",
       "      <td>...</td>\n",
       "      <td>...</td>\n",
       "      <td>...</td>\n",
       "      <td>...</td>\n",
       "      <td>...</td>\n",
       "      <td>...</td>\n",
       "      <td>...</td>\n",
       "      <td>...</td>\n",
       "      <td>...</td>\n",
       "      <td>...</td>\n",
       "      <td>...</td>\n",
       "      <td>...</td>\n",
       "      <td>...</td>\n",
       "      <td>...</td>\n",
       "      <td>...</td>\n",
       "      <td>...</td>\n",
       "      <td>...</td>\n",
       "      <td>...</td>\n",
       "    </tr>\n",
       "    <tr>\n",
       "      <th>284802</th>\n",
       "      <td>172786.0</td>\n",
       "      <td>-11.881118</td>\n",
       "      <td>10.071785</td>\n",
       "      <td>-9.834783</td>\n",
       "      <td>-2.066656</td>\n",
       "      <td>-5.364473</td>\n",
       "      <td>-2.606837</td>\n",
       "      <td>-4.918215</td>\n",
       "      <td>7.305334</td>\n",
       "      <td>1.914428</td>\n",
       "      <td>...</td>\n",
       "      <td>0.213454</td>\n",
       "      <td>0.111864</td>\n",
       "      <td>1.014480</td>\n",
       "      <td>-0.509348</td>\n",
       "      <td>1.436807</td>\n",
       "      <td>0.250034</td>\n",
       "      <td>0.943651</td>\n",
       "      <td>0.823731</td>\n",
       "      <td>0.77</td>\n",
       "      <td>0</td>\n",
       "    </tr>\n",
       "    <tr>\n",
       "      <th>284803</th>\n",
       "      <td>172787.0</td>\n",
       "      <td>-0.732789</td>\n",
       "      <td>-0.055080</td>\n",
       "      <td>2.035030</td>\n",
       "      <td>-0.738589</td>\n",
       "      <td>0.868229</td>\n",
       "      <td>1.058415</td>\n",
       "      <td>0.024330</td>\n",
       "      <td>0.294869</td>\n",
       "      <td>0.584800</td>\n",
       "      <td>...</td>\n",
       "      <td>0.214205</td>\n",
       "      <td>0.924384</td>\n",
       "      <td>0.012463</td>\n",
       "      <td>-1.016226</td>\n",
       "      <td>-0.606624</td>\n",
       "      <td>-0.395255</td>\n",
       "      <td>0.068472</td>\n",
       "      <td>-0.053527</td>\n",
       "      <td>24.79</td>\n",
       "      <td>0</td>\n",
       "    </tr>\n",
       "    <tr>\n",
       "      <th>284804</th>\n",
       "      <td>172788.0</td>\n",
       "      <td>1.919565</td>\n",
       "      <td>-0.301254</td>\n",
       "      <td>-3.249640</td>\n",
       "      <td>-0.557828</td>\n",
       "      <td>2.630515</td>\n",
       "      <td>3.031260</td>\n",
       "      <td>-0.296827</td>\n",
       "      <td>0.708417</td>\n",
       "      <td>0.432454</td>\n",
       "      <td>...</td>\n",
       "      <td>0.232045</td>\n",
       "      <td>0.578229</td>\n",
       "      <td>-0.037501</td>\n",
       "      <td>0.640134</td>\n",
       "      <td>0.265745</td>\n",
       "      <td>-0.087371</td>\n",
       "      <td>0.004455</td>\n",
       "      <td>-0.026561</td>\n",
       "      <td>67.88</td>\n",
       "      <td>0</td>\n",
       "    </tr>\n",
       "    <tr>\n",
       "      <th>284805</th>\n",
       "      <td>172788.0</td>\n",
       "      <td>-0.240440</td>\n",
       "      <td>0.530483</td>\n",
       "      <td>0.702510</td>\n",
       "      <td>0.689799</td>\n",
       "      <td>-0.377961</td>\n",
       "      <td>0.623708</td>\n",
       "      <td>-0.686180</td>\n",
       "      <td>0.679145</td>\n",
       "      <td>0.392087</td>\n",
       "      <td>...</td>\n",
       "      <td>0.265245</td>\n",
       "      <td>0.800049</td>\n",
       "      <td>-0.163298</td>\n",
       "      <td>0.123205</td>\n",
       "      <td>-0.569159</td>\n",
       "      <td>0.546668</td>\n",
       "      <td>0.108821</td>\n",
       "      <td>0.104533</td>\n",
       "      <td>10.00</td>\n",
       "      <td>0</td>\n",
       "    </tr>\n",
       "    <tr>\n",
       "      <th>284806</th>\n",
       "      <td>172792.0</td>\n",
       "      <td>-0.533413</td>\n",
       "      <td>-0.189733</td>\n",
       "      <td>0.703337</td>\n",
       "      <td>-0.506271</td>\n",
       "      <td>-0.012546</td>\n",
       "      <td>-0.649617</td>\n",
       "      <td>1.577006</td>\n",
       "      <td>-0.414650</td>\n",
       "      <td>0.486180</td>\n",
       "      <td>...</td>\n",
       "      <td>0.261057</td>\n",
       "      <td>0.643078</td>\n",
       "      <td>0.376777</td>\n",
       "      <td>0.008797</td>\n",
       "      <td>-0.473649</td>\n",
       "      <td>-0.818267</td>\n",
       "      <td>-0.002415</td>\n",
       "      <td>0.013649</td>\n",
       "      <td>217.00</td>\n",
       "      <td>0</td>\n",
       "    </tr>\n",
       "  </tbody>\n",
       "</table>\n",
       "<p>284807 rows × 31 columns</p>\n",
       "</div>"
      ],
      "text/plain": [
       "            Time         V1         V2        V3        V4        V5  \\\n",
       "0            0.0  -1.359807  -0.072781  2.536347  1.378155 -0.338321   \n",
       "1            0.0   1.191857   0.266151  0.166480  0.448154  0.060018   \n",
       "2            1.0  -1.358354  -1.340163  1.773209  0.379780 -0.503198   \n",
       "3            1.0  -0.966272  -0.185226  1.792993 -0.863291 -0.010309   \n",
       "4            2.0  -1.158233   0.877737  1.548718  0.403034 -0.407193   \n",
       "...          ...        ...        ...       ...       ...       ...   \n",
       "284802  172786.0 -11.881118  10.071785 -9.834783 -2.066656 -5.364473   \n",
       "284803  172787.0  -0.732789  -0.055080  2.035030 -0.738589  0.868229   \n",
       "284804  172788.0   1.919565  -0.301254 -3.249640 -0.557828  2.630515   \n",
       "284805  172788.0  -0.240440   0.530483  0.702510  0.689799 -0.377961   \n",
       "284806  172792.0  -0.533413  -0.189733  0.703337 -0.506271 -0.012546   \n",
       "\n",
       "              V6        V7        V8        V9  ...       V21       V22  \\\n",
       "0       0.462388  0.239599  0.098698  0.363787  ... -0.018307  0.277838   \n",
       "1      -0.082361 -0.078803  0.085102 -0.255425  ... -0.225775 -0.638672   \n",
       "2       1.800499  0.791461  0.247676 -1.514654  ...  0.247998  0.771679   \n",
       "3       1.247203  0.237609  0.377436 -1.387024  ... -0.108300  0.005274   \n",
       "4       0.095921  0.592941 -0.270533  0.817739  ... -0.009431  0.798278   \n",
       "...          ...       ...       ...       ...  ...       ...       ...   \n",
       "284802 -2.606837 -4.918215  7.305334  1.914428  ...  0.213454  0.111864   \n",
       "284803  1.058415  0.024330  0.294869  0.584800  ...  0.214205  0.924384   \n",
       "284804  3.031260 -0.296827  0.708417  0.432454  ...  0.232045  0.578229   \n",
       "284805  0.623708 -0.686180  0.679145  0.392087  ...  0.265245  0.800049   \n",
       "284806 -0.649617  1.577006 -0.414650  0.486180  ...  0.261057  0.643078   \n",
       "\n",
       "             V23       V24       V25       V26       V27       V28  Amount  \\\n",
       "0      -0.110474  0.066928  0.128539 -0.189115  0.133558 -0.021053  149.62   \n",
       "1       0.101288 -0.339846  0.167170  0.125895 -0.008983  0.014724    2.69   \n",
       "2       0.909412 -0.689281 -0.327642 -0.139097 -0.055353 -0.059752  378.66   \n",
       "3      -0.190321 -1.175575  0.647376 -0.221929  0.062723  0.061458  123.50   \n",
       "4      -0.137458  0.141267 -0.206010  0.502292  0.219422  0.215153   69.99   \n",
       "...          ...       ...       ...       ...       ...       ...     ...   \n",
       "284802  1.014480 -0.509348  1.436807  0.250034  0.943651  0.823731    0.77   \n",
       "284803  0.012463 -1.016226 -0.606624 -0.395255  0.068472 -0.053527   24.79   \n",
       "284804 -0.037501  0.640134  0.265745 -0.087371  0.004455 -0.026561   67.88   \n",
       "284805 -0.163298  0.123205 -0.569159  0.546668  0.108821  0.104533   10.00   \n",
       "284806  0.376777  0.008797 -0.473649 -0.818267 -0.002415  0.013649  217.00   \n",
       "\n",
       "        Class  \n",
       "0           0  \n",
       "1           0  \n",
       "2           0  \n",
       "3           0  \n",
       "4           0  \n",
       "...       ...  \n",
       "284802      0  \n",
       "284803      0  \n",
       "284804      0  \n",
       "284805      0  \n",
       "284806      0  \n",
       "\n",
       "[284807 rows x 31 columns]"
      ]
     },
     "execution_count": 2,
     "metadata": {},
     "output_type": "execute_result"
    }
   ],
   "source": [
    "# loading the dataset to a pandas DataFrame \n",
    "df = pd.read_csv(r'D:\\dataprocessing\\creditcard.csv')\n",
    "df"
   ]
  },
  {
   "cell_type": "code",
   "execution_count": 3,
   "metadata": {},
   "outputs": [],
   "source": [
    "target = 'Class'\n",
    "X = df.loc[:, df.columns!=target]\n",
    "Y = df.loc[:, df.columns==target]"
   ]
  },
  {
   "cell_type": "code",
   "execution_count": 4,
   "metadata": {},
   "outputs": [],
   "source": [
    "def generate_model_report(y_actual, y_predicted):\n",
    "    print(\"Accuracy = \" , accuracy_score(y_actual, y_predicted))\n",
    "    print(\"Precision = \" ,precision_score(y_actual, y_predicted))\n",
    "    print(\"Recall = \" ,recall_score(y_actual, y_predicted))\n",
    "    print(\"F1 Score = \" ,f1_score(y_actual, y_predicted))\n",
    "    pass\n",
    "\n",
    "\n",
    "def generate_auc_roc_curve(clf, X_test):\n",
    "    y_pred_proba = clf.predict_proba(X_test)[:, 1]\n",
    "    fpr, tpr, thresholds = roc_curve(Y_test,  y_pred_proba)\n",
    "    auc = roc_auc_score(Y_test, y_pred_proba)\n",
    "    plt.plot(fpr,tpr,label=\"AUC ROC Curve with Area Under the curve =\"+str(auc))\n",
    "    plt.legend(loc=4)\n",
    "    plt.show()\n",
    "    pass"
   ]
  },
  {
   "cell_type": "markdown",
   "metadata": {},
   "source": [
    "# Correlation"
   ]
  },
  {
   "cell_type": "code",
   "execution_count": 5,
   "metadata": {},
   "outputs": [
    {
     "data": {
      "image/png": "[encoded data removed]",
      "text/plain": [
       "<Figure size 2000x3000 with 2 Axes>"
      ]
     },
     "metadata": {},
     "output_type": "display_data"
    }
   ],
   "source": [
    "X.corr()\n",
    "\n",
    "import seaborn as sns\n",
    "#Using Pearson Correlation\n",
    "plt.figure(figsize=(20,30))\n",
    "cor = X.corr()\n",
    "sns.heatmap(cor, annot=True, cmap=plt.cm.autumn)\n",
    "plt.show()\n",
    "def correlation(dataset, threshold):#dataset is X_train , threshold is a value which is may be 80% ,90% ,70%.. \n",
    "    col_corr = set()  # Set of all the names of correlated columns\n",
    "    # using set() so no duplicate column contain here ...\n",
    "    corr_matrix = dataset.corr()\n",
    "    for i in range(len(corr_matrix.columns)):\n",
    "        for j in range(i):\n",
    "            if abs(corr_matrix.iloc[i, j]) > threshold: # we are interested in absolute coeff value\n",
    "                colname = corr_matrix.columns[i]  # getting the name of column\n",
    "                col_corr.add(colname)\n",
    "    return col_corr\n",
    "\n",
    "corr_features = correlation(X, 0.6)"
   ]
  },
  {
   "cell_type": "code",
   "execution_count": 6,
   "metadata": {},
   "outputs": [
    {
     "data": {
      "text/plain": [
       "0"
      ]
     },
     "execution_count": 6,
     "metadata": {},
     "output_type": "execute_result"
    }
   ],
   "source": [
    "len(set(corr_features))"
   ]
  },
  {
   "cell_type": "code",
   "execution_count": 7,
   "metadata": {},
   "outputs": [
    {
     "data": {
      "text/html": [
       "<div>\n",
       "<style scoped>\n",
       "    .dataframe tbody tr th:only-of-type {\n",
       "        vertical-align: middle;\n",
       "    }\n",
       "\n",
       "    .dataframe tbody tr th {\n",
       "        vertical-align: top;\n",
       "    }\n",
       "\n",
       "    .dataframe thead th {\n",
       "        text-align: right;\n",
       "    }\n",
       "</style>\n",
       "<table border=\"1\" class=\"dataframe\">\n",
       "  <thead>\n",
       "    <tr style=\"text-align: right;\">\n",
       "      <th></th>\n",
       "      <th>Time</th>\n",
       "      <th>V1</th>\n",
       "      <th>V2</th>\n",
       "      <th>V3</th>\n",
       "      <th>V4</th>\n",
       "      <th>V5</th>\n",
       "      <th>V6</th>\n",
       "      <th>V7</th>\n",
       "      <th>V8</th>\n",
       "      <th>V9</th>\n",
       "      <th>...</th>\n",
       "      <th>V20</th>\n",
       "      <th>V21</th>\n",
       "      <th>V22</th>\n",
       "      <th>V23</th>\n",
       "      <th>V24</th>\n",
       "      <th>V25</th>\n",
       "      <th>V26</th>\n",
       "      <th>V27</th>\n",
       "      <th>V28</th>\n",
       "      <th>Amount</th>\n",
       "    </tr>\n",
       "  </thead>\n",
       "  <tbody>\n",
       "    <tr>\n",
       "      <th>0</th>\n",
       "      <td>0.0</td>\n",
       "      <td>-1.359807</td>\n",
       "      <td>-0.072781</td>\n",
       "      <td>2.536347</td>\n",
       "      <td>1.378155</td>\n",
       "      <td>-0.338321</td>\n",
       "      <td>0.462388</td>\n",
       "      <td>0.239599</td>\n",
       "      <td>0.098698</td>\n",
       "      <td>0.363787</td>\n",
       "      <td>...</td>\n",
       "      <td>0.251412</td>\n",
       "      <td>-0.018307</td>\n",
       "      <td>0.277838</td>\n",
       "      <td>-0.110474</td>\n",
       "      <td>0.066928</td>\n",
       "      <td>0.128539</td>\n",
       "      <td>-0.189115</td>\n",
       "      <td>0.133558</td>\n",
       "      <td>-0.021053</td>\n",
       "      <td>149.62</td>\n",
       "    </tr>\n",
       "    <tr>\n",
       "      <th>1</th>\n",
       "      <td>0.0</td>\n",
       "      <td>1.191857</td>\n",
       "      <td>0.266151</td>\n",
       "      <td>0.166480</td>\n",
       "      <td>0.448154</td>\n",
       "      <td>0.060018</td>\n",
       "      <td>-0.082361</td>\n",
       "      <td>-0.078803</td>\n",
       "      <td>0.085102</td>\n",
       "      <td>-0.255425</td>\n",
       "      <td>...</td>\n",
       "      <td>-0.069083</td>\n",
       "      <td>-0.225775</td>\n",
       "      <td>-0.638672</td>\n",
       "      <td>0.101288</td>\n",
       "      <td>-0.339846</td>\n",
       "      <td>0.167170</td>\n",
       "      <td>0.125895</td>\n",
       "      <td>-0.008983</td>\n",
       "      <td>0.014724</td>\n",
       "      <td>2.69</td>\n",
       "    </tr>\n",
       "    <tr>\n",
       "      <th>2</th>\n",
       "      <td>1.0</td>\n",
       "      <td>-1.358354</td>\n",
       "      <td>-1.340163</td>\n",
       "      <td>1.773209</td>\n",
       "      <td>0.379780</td>\n",
       "      <td>-0.503198</td>\n",
       "      <td>1.800499</td>\n",
       "      <td>0.791461</td>\n",
       "      <td>0.247676</td>\n",
       "      <td>-1.514654</td>\n",
       "      <td>...</td>\n",
       "      <td>0.524980</td>\n",
       "      <td>0.247998</td>\n",
       "      <td>0.771679</td>\n",
       "      <td>0.909412</td>\n",
       "      <td>-0.689281</td>\n",
       "      <td>-0.327642</td>\n",
       "      <td>-0.139097</td>\n",
       "      <td>-0.055353</td>\n",
       "      <td>-0.059752</td>\n",
       "      <td>378.66</td>\n",
       "    </tr>\n",
       "    <tr>\n",
       "      <th>3</th>\n",
       "      <td>1.0</td>\n",
       "      <td>-0.966272</td>\n",
       "      <td>-0.185226</td>\n",
       "      <td>1.792993</td>\n",
       "      <td>-0.863291</td>\n",
       "      <td>-0.010309</td>\n",
       "      <td>1.247203</td>\n",
       "      <td>0.237609</td>\n",
       "      <td>0.377436</td>\n",
       "      <td>-1.387024</td>\n",
       "      <td>...</td>\n",
       "      <td>-0.208038</td>\n",
       "      <td>-0.108300</td>\n",
       "      <td>0.005274</td>\n",
       "      <td>-0.190321</td>\n",
       "      <td>-1.175575</td>\n",
       "      <td>0.647376</td>\n",
       "      <td>-0.221929</td>\n",
       "      <td>0.062723</td>\n",
       "      <td>0.061458</td>\n",
       "      <td>123.50</td>\n",
       "    </tr>\n",
       "    <tr>\n",
       "      <th>4</th>\n",
       "      <td>2.0</td>\n",
       "      <td>-1.158233</td>\n",
       "      <td>0.877737</td>\n",
       "      <td>1.548718</td>\n",
       "      <td>0.403034</td>\n",
       "      <td>-0.407193</td>\n",
       "      <td>0.095921</td>\n",
       "      <td>0.592941</td>\n",
       "      <td>-0.270533</td>\n",
       "      <td>0.817739</td>\n",
       "      <td>...</td>\n",
       "      <td>0.408542</td>\n",
       "      <td>-0.009431</td>\n",
       "      <td>0.798278</td>\n",
       "      <td>-0.137458</td>\n",
       "      <td>0.141267</td>\n",
       "      <td>-0.206010</td>\n",
       "      <td>0.502292</td>\n",
       "      <td>0.219422</td>\n",
       "      <td>0.215153</td>\n",
       "      <td>69.99</td>\n",
       "    </tr>\n",
       "    <tr>\n",
       "      <th>...</th>\n",
       "      <td>...</td>\n",
       "      <td>...</td>\n",
       "      <td>...</td>\n",
       "      <td>...</td>\n",
       "      <td>...</td>\n",
       "      <td>...</td>\n",
       "      <td>...</td>\n",
       "      <td>...</td>\n",
       "      <td>...</td>\n",
       "      <td>...</td>\n",
       "      <td>...</td>\n",
       "      <td>...</td>\n",
       "      <td>...</td>\n",
       "      <td>...</td>\n",
       "      <td>...</td>\n",
       "      <td>...</td>\n",
       "      <td>...</td>\n",
       "      <td>...</td>\n",
       "      <td>...</td>\n",
       "      <td>...</td>\n",
       "      <td>...</td>\n",
       "    </tr>\n",
       "    <tr>\n",
       "      <th>284802</th>\n",
       "      <td>172786.0</td>\n",
       "      <td>-11.881118</td>\n",
       "      <td>10.071785</td>\n",
       "      <td>-9.834783</td>\n",
       "      <td>-2.066656</td>\n",
       "      <td>-5.364473</td>\n",
       "      <td>-2.606837</td>\n",
       "      <td>-4.918215</td>\n",
       "      <td>7.305334</td>\n",
       "      <td>1.914428</td>\n",
       "      <td>...</td>\n",
       "      <td>1.475829</td>\n",
       "      <td>0.213454</td>\n",
       "      <td>0.111864</td>\n",
       "      <td>1.014480</td>\n",
       "      <td>-0.509348</td>\n",
       "      <td>1.436807</td>\n",
       "      <td>0.250034</td>\n",
       "      <td>0.943651</td>\n",
       "      <td>0.823731</td>\n",
       "      <td>0.77</td>\n",
       "    </tr>\n",
       "    <tr>\n",
       "      <th>284803</th>\n",
       "      <td>172787.0</td>\n",
       "      <td>-0.732789</td>\n",
       "      <td>-0.055080</td>\n",
       "      <td>2.035030</td>\n",
       "      <td>-0.738589</td>\n",
       "      <td>0.868229</td>\n",
       "      <td>1.058415</td>\n",
       "      <td>0.024330</td>\n",
       "      <td>0.294869</td>\n",
       "      <td>0.584800</td>\n",
       "      <td>...</td>\n",
       "      <td>0.059616</td>\n",
       "      <td>0.214205</td>\n",
       "      <td>0.924384</td>\n",
       "      <td>0.012463</td>\n",
       "      <td>-1.016226</td>\n",
       "      <td>-0.606624</td>\n",
       "      <td>-0.395255</td>\n",
       "      <td>0.068472</td>\n",
       "      <td>-0.053527</td>\n",
       "      <td>24.79</td>\n",
       "    </tr>\n",
       "    <tr>\n",
       "      <th>284804</th>\n",
       "      <td>172788.0</td>\n",
       "      <td>1.919565</td>\n",
       "      <td>-0.301254</td>\n",
       "      <td>-3.249640</td>\n",
       "      <td>-0.557828</td>\n",
       "      <td>2.630515</td>\n",
       "      <td>3.031260</td>\n",
       "      <td>-0.296827</td>\n",
       "      <td>0.708417</td>\n",
       "      <td>0.432454</td>\n",
       "      <td>...</td>\n",
       "      <td>0.001396</td>\n",
       "      <td>0.232045</td>\n",
       "      <td>0.578229</td>\n",
       "      <td>-0.037501</td>\n",
       "      <td>0.640134</td>\n",
       "      <td>0.265745</td>\n",
       "      <td>-0.087371</td>\n",
       "      <td>0.004455</td>\n",
       "      <td>-0.026561</td>\n",
       "      <td>67.88</td>\n",
       "    </tr>\n",
       "    <tr>\n",
       "      <th>284805</th>\n",
       "      <td>172788.0</td>\n",
       "      <td>-0.240440</td>\n",
       "      <td>0.530483</td>\n",
       "      <td>0.702510</td>\n",
       "      <td>0.689799</td>\n",
       "      <td>-0.377961</td>\n",
       "      <td>0.623708</td>\n",
       "      <td>-0.686180</td>\n",
       "      <td>0.679145</td>\n",
       "      <td>0.392087</td>\n",
       "      <td>...</td>\n",
       "      <td>0.127434</td>\n",
       "      <td>0.265245</td>\n",
       "      <td>0.800049</td>\n",
       "      <td>-0.163298</td>\n",
       "      <td>0.123205</td>\n",
       "      <td>-0.569159</td>\n",
       "      <td>0.546668</td>\n",
       "      <td>0.108821</td>\n",
       "      <td>0.104533</td>\n",
       "      <td>10.00</td>\n",
       "    </tr>\n",
       "    <tr>\n",
       "      <th>284806</th>\n",
       "      <td>172792.0</td>\n",
       "      <td>-0.533413</td>\n",
       "      <td>-0.189733</td>\n",
       "      <td>0.703337</td>\n",
       "      <td>-0.506271</td>\n",
       "      <td>-0.012546</td>\n",
       "      <td>-0.649617</td>\n",
       "      <td>1.577006</td>\n",
       "      <td>-0.414650</td>\n",
       "      <td>0.486180</td>\n",
       "      <td>...</td>\n",
       "      <td>0.382948</td>\n",
       "      <td>0.261057</td>\n",
       "      <td>0.643078</td>\n",
       "      <td>0.376777</td>\n",
       "      <td>0.008797</td>\n",
       "      <td>-0.473649</td>\n",
       "      <td>-0.818267</td>\n",
       "      <td>-0.002415</td>\n",
       "      <td>0.013649</td>\n",
       "      <td>217.00</td>\n",
       "    </tr>\n",
       "  </tbody>\n",
       "</table>\n",
       "<p>284807 rows × 30 columns</p>\n",
       "</div>"
      ],
      "text/plain": [
       "            Time         V1         V2        V3        V4        V5  \\\n",
       "0            0.0  -1.359807  -0.072781  2.536347  1.378155 -0.338321   \n",
       "1            0.0   1.191857   0.266151  0.166480  0.448154  0.060018   \n",
       "2            1.0  -1.358354  -1.340163  1.773209  0.379780 -0.503198   \n",
       "3            1.0  -0.966272  -0.185226  1.792993 -0.863291 -0.010309   \n",
       "4            2.0  -1.158233   0.877737  1.548718  0.403034 -0.407193   \n",
       "...          ...        ...        ...       ...       ...       ...   \n",
       "284802  172786.0 -11.881118  10.071785 -9.834783 -2.066656 -5.364473   \n",
       "284803  172787.0  -0.732789  -0.055080  2.035030 -0.738589  0.868229   \n",
       "284804  172788.0   1.919565  -0.301254 -3.249640 -0.557828  2.630515   \n",
       "284805  172788.0  -0.240440   0.530483  0.702510  0.689799 -0.377961   \n",
       "284806  172792.0  -0.533413  -0.189733  0.703337 -0.506271 -0.012546   \n",
       "\n",
       "              V6        V7        V8        V9  ...       V20       V21  \\\n",
       "0       0.462388  0.239599  0.098698  0.363787  ...  0.251412 -0.018307   \n",
       "1      -0.082361 -0.078803  0.085102 -0.255425  ... -0.069083 -0.225775   \n",
       "2       1.800499  0.791461  0.247676 -1.514654  ...  0.524980  0.247998   \n",
       "3       1.247203  0.237609  0.377436 -1.387024  ... -0.208038 -0.108300   \n",
       "4       0.095921  0.592941 -0.270533  0.817739  ...  0.408542 -0.009431   \n",
       "...          ...       ...       ...       ...  ...       ...       ...   \n",
       "284802 -2.606837 -4.918215  7.305334  1.914428  ...  1.475829  0.213454   \n",
       "284803  1.058415  0.024330  0.294869  0.584800  ...  0.059616  0.214205   \n",
       "284804  3.031260 -0.296827  0.708417  0.432454  ...  0.001396  0.232045   \n",
       "284805  0.623708 -0.686180  0.679145  0.392087  ...  0.127434  0.265245   \n",
       "284806 -0.649617  1.577006 -0.414650  0.486180  ...  0.382948  0.261057   \n",
       "\n",
       "             V22       V23       V24       V25       V26       V27       V28  \\\n",
       "0       0.277838 -0.110474  0.066928  0.128539 -0.189115  0.133558 -0.021053   \n",
       "1      -0.638672  0.101288 -0.339846  0.167170  0.125895 -0.008983  0.014724   \n",
       "2       0.771679  0.909412 -0.689281 -0.327642 -0.139097 -0.055353 -0.059752   \n",
       "3       0.005274 -0.190321 -1.175575  0.647376 -0.221929  0.062723  0.061458   \n",
       "4       0.798278 -0.137458  0.141267 -0.206010  0.502292  0.219422  0.215153   \n",
       "...          ...       ...       ...       ...       ...       ...       ...   \n",
       "284802  0.111864  1.014480 -0.509348  1.436807  0.250034  0.943651  0.823731   \n",
       "284803  0.924384  0.012463 -1.016226 -0.606624 -0.395255  0.068472 -0.053527   \n",
       "284804  0.578229 -0.037501  0.640134  0.265745 -0.087371  0.004455 -0.026561   \n",
       "284805  0.800049 -0.163298  0.123205 -0.569159  0.546668  0.108821  0.104533   \n",
       "284806  0.643078  0.376777  0.008797 -0.473649 -0.818267 -0.002415  0.013649   \n",
       "\n",
       "        Amount  \n",
       "0       149.62  \n",
       "1         2.69  \n",
       "2       378.66  \n",
       "3       123.50  \n",
       "4        69.99  \n",
       "...        ...  \n",
       "284802    0.77  \n",
       "284803   24.79  \n",
       "284804   67.88  \n",
       "284805   10.00  \n",
       "284806  217.00  \n",
       "\n",
       "[284807 rows x 30 columns]"
      ]
     },
     "execution_count": 7,
     "metadata": {},
     "output_type": "execute_result"
    }
   ],
   "source": [
    "X"
   ]
  },
  {
   "cell_type": "code",
   "execution_count": 8,
   "metadata": {},
   "outputs": [],
   "source": [
    "from sklearn.preprocessing import StandardScaler\n",
    "\n",
    "scaler = StandardScaler()\n",
    "X=scaler.fit_transform(X)"
   ]
  },
  {
   "cell_type": "code",
   "execution_count": 10,
   "metadata": {},
   "outputs": [
    {
     "data": {
      "text/plain": [
       "array([[ 0.41663045, -2.53266428, -0.67999702, ...,  0.52800765,\n",
       "         0.27581306, -0.02083772],\n",
       "       [-0.39345348, -2.0773255 , -0.52129112, ..., -0.84909671,\n",
       "         0.76458219,  0.01490406],\n",
       "       [ 1.86852545, -2.53349699, -0.08542482, ..., -1.21852981,\n",
       "         0.21358778,  0.13526557],\n",
       "       ...,\n",
       "       [-0.19406338,  2.07078798,  0.10500039, ...,  0.01037805,\n",
       "        -0.24503234, -0.00392092],\n",
       "       [-0.46608925,  1.22539363, -0.05994015, ...,  1.00419645,\n",
       "        -1.07832866,  0.0242546 ],\n",
       "       [ 0.76759651,  1.90590292,  0.01471062, ..., -0.07321443,\n",
       "        -0.45055744,  0.10879846]])"
      ]
     },
     "execution_count": 10,
     "metadata": {},
     "output_type": "execute_result"
    }
   ],
   "source": [
    "from sklearn.decomposition import PCA\n",
    "\n",
    "pca = PCA(None)\n",
    "x_pca=pca.fit_transform(X)\n",
    "x_pca"
   ]
  },
  {
   "cell_type": "markdown",
   "metadata": {},
   "source": []
  },
  {
   "cell_type": "code",
   "execution_count": 11,
   "metadata": {},
   "outputs": [
    {
     "name": "stdout",
     "output_type": "stream",
     "text": [
      "[0.06527521 0.05612313 0.03333333 0.03333333 0.03333333 0.03333333\n",
      " 0.03333333 0.03333333 0.03333333 0.03333333 0.03333333 0.03333333\n",
      " 0.03333333 0.03333333 0.03333333 0.03333333 0.03333333 0.03333333\n",
      " 0.03333333 0.03333333 0.03333333 0.03333333 0.03333333 0.03333333\n",
      " 0.03333333 0.03333333 0.03333333 0.03333333 0.01052982 0.00140516]\n",
      "100.0\n"
     ]
    }
   ],
   "source": [
    "print(pca.explained_variance_ratio_)\n",
    "total_var = pca.explained_variance_ratio_.sum() * 100\n",
    "print(total_var)"
   ]
  },
  {
   "cell_type": "markdown",
   "metadata": {},
   "source": [
    "# PC1 Vs PC2"
   ]
  },
  {
   "cell_type": "code",
   "execution_count": 13,
   "metadata": {},
   "outputs": [
    {
     "ename": "ValueError",
     "evalue": "Shape of passed values is (284807, 30), indices imply (284807, 2)",
     "output_type": "error",
     "traceback": [
      "\u001b[1;31m---------------------------------------------------------------------------\u001b[0m",
      "\u001b[1;31mValueError\u001b[0m                                Traceback (most recent call last)",
      "Cell \u001b[1;32mIn[13], line 1\u001b[0m\n\u001b[1;32m----> 1\u001b[0m principal_cifar_Df \u001b[38;5;241m=\u001b[39m pd\u001b[38;5;241m.\u001b[39mDataFrame(data \u001b[38;5;241m=\u001b[39m x_pca\n\u001b[0;32m      2\u001b[0m              , columns \u001b[38;5;241m=\u001b[39m [\u001b[38;5;124m'\u001b[39m\u001b[38;5;124mPC 1\u001b[39m\u001b[38;5;124m'\u001b[39m, \u001b[38;5;124m'\u001b[39m\u001b[38;5;124mPC 2\u001b[39m\u001b[38;5;124m'\u001b[39m])\n\u001b[0;32m      3\u001b[0m principal_cifar_Df[\u001b[38;5;124m'\u001b[39m\u001b[38;5;124mClass\u001b[39m\u001b[38;5;124m'\u001b[39m] \u001b[38;5;241m=\u001b[39m Y\n",
      "File \u001b[1;32m~\\AppData\\Roaming\\Python\\Python311\\site-packages\\pandas\\core\\frame.py:782\u001b[0m, in \u001b[0;36mDataFrame.__init__\u001b[1;34m(self, data, index, columns, dtype, copy)\u001b[0m\n\u001b[0;32m    771\u001b[0m         mgr \u001b[38;5;241m=\u001b[39m dict_to_mgr(\n\u001b[0;32m    772\u001b[0m             \u001b[38;5;66;03m# error: Item \"ndarray\" of \"Union[ndarray, Series, Index]\" has no\u001b[39;00m\n\u001b[0;32m    773\u001b[0m             \u001b[38;5;66;03m# attribute \"name\"\u001b[39;00m\n\u001b[1;32m   (...)\u001b[0m\n\u001b[0;32m    779\u001b[0m             copy\u001b[38;5;241m=\u001b[39m_copy,\n\u001b[0;32m    780\u001b[0m         )\n\u001b[0;32m    781\u001b[0m     \u001b[38;5;28;01melse\u001b[39;00m:\n\u001b[1;32m--> 782\u001b[0m         mgr \u001b[38;5;241m=\u001b[39m ndarray_to_mgr(\n\u001b[0;32m    783\u001b[0m             data,\n\u001b[0;32m    784\u001b[0m             index,\n\u001b[0;32m    785\u001b[0m             columns,\n\u001b[0;32m    786\u001b[0m             dtype\u001b[38;5;241m=\u001b[39mdtype,\n\u001b[0;32m    787\u001b[0m             copy\u001b[38;5;241m=\u001b[39mcopy,\n\u001b[0;32m    788\u001b[0m             typ\u001b[38;5;241m=\u001b[39mmanager,\n\u001b[0;32m    789\u001b[0m         )\n\u001b[0;32m    791\u001b[0m \u001b[38;5;66;03m# For data is list-like, or Iterable (will consume into list)\u001b[39;00m\n\u001b[0;32m    792\u001b[0m \u001b[38;5;28;01melif\u001b[39;00m is_list_like(data):\n",
      "File \u001b[1;32m~\\AppData\\Roaming\\Python\\Python311\\site-packages\\pandas\\core\\internals\\construction.py:336\u001b[0m, in \u001b[0;36mndarray_to_mgr\u001b[1;34m(values, index, columns, dtype, copy, typ)\u001b[0m\n\u001b[0;32m    331\u001b[0m \u001b[38;5;66;03m# _prep_ndarraylike ensures that values.ndim == 2 at this point\u001b[39;00m\n\u001b[0;32m    332\u001b[0m index, columns \u001b[38;5;241m=\u001b[39m _get_axes(\n\u001b[0;32m    333\u001b[0m     values\u001b[38;5;241m.\u001b[39mshape[\u001b[38;5;241m0\u001b[39m], values\u001b[38;5;241m.\u001b[39mshape[\u001b[38;5;241m1\u001b[39m], index\u001b[38;5;241m=\u001b[39mindex, columns\u001b[38;5;241m=\u001b[39mcolumns\n\u001b[0;32m    334\u001b[0m )\n\u001b[1;32m--> 336\u001b[0m _check_values_indices_shape_match(values, index, columns)\n\u001b[0;32m    338\u001b[0m \u001b[38;5;28;01mif\u001b[39;00m typ \u001b[38;5;241m==\u001b[39m \u001b[38;5;124m\"\u001b[39m\u001b[38;5;124marray\u001b[39m\u001b[38;5;124m\"\u001b[39m:\n\u001b[0;32m    339\u001b[0m     \u001b[38;5;28;01mif\u001b[39;00m \u001b[38;5;28missubclass\u001b[39m(values\u001b[38;5;241m.\u001b[39mdtype\u001b[38;5;241m.\u001b[39mtype, \u001b[38;5;28mstr\u001b[39m):\n",
      "File \u001b[1;32m~\\AppData\\Roaming\\Python\\Python311\\site-packages\\pandas\\core\\internals\\construction.py:420\u001b[0m, in \u001b[0;36m_check_values_indices_shape_match\u001b[1;34m(values, index, columns)\u001b[0m\n\u001b[0;32m    418\u001b[0m passed \u001b[38;5;241m=\u001b[39m values\u001b[38;5;241m.\u001b[39mshape\n\u001b[0;32m    419\u001b[0m implied \u001b[38;5;241m=\u001b[39m (\u001b[38;5;28mlen\u001b[39m(index), \u001b[38;5;28mlen\u001b[39m(columns))\n\u001b[1;32m--> 420\u001b[0m \u001b[38;5;28;01mraise\u001b[39;00m \u001b[38;5;167;01mValueError\u001b[39;00m(\u001b[38;5;124mf\u001b[39m\u001b[38;5;124m\"\u001b[39m\u001b[38;5;124mShape of passed values is \u001b[39m\u001b[38;5;132;01m{\u001b[39;00mpassed\u001b[38;5;132;01m}\u001b[39;00m\u001b[38;5;124m, indices imply \u001b[39m\u001b[38;5;132;01m{\u001b[39;00mimplied\u001b[38;5;132;01m}\u001b[39;00m\u001b[38;5;124m\"\u001b[39m)\n",
      "\u001b[1;31mValueError\u001b[0m: Shape of passed values is (284807, 30), indices imply (284807, 2)"
     ]
    }
   ],
   "source": [
    "'''principal_cifar_Df = pd.DataFrame(data = x_pca, columns = ['PC 1', 'PC 2'])\n",
    "principal_cifar_Df['Class'] = Y'''"
   ]
  },
  {
   "cell_type": "code",
   "execution_count": null,
   "metadata": {},
   "outputs": [],
   "source": [
    "#principal_cifar_Df.head()\n"
   ]
  },
  {
   "cell_type": "code",
   "execution_count": 14,
   "metadata": {},
   "outputs": [
    {
     "ename": "NameError",
     "evalue": "name 'principal_cifar_Df' is not defined",
     "output_type": "error",
     "traceback": [
      "\u001b[1;31m---------------------------------------------------------------------------\u001b[0m",
      "\u001b[1;31mNameError\u001b[0m                                 Traceback (most recent call last)",
      "Cell \u001b[1;32mIn[14], line 7\u001b[0m\n\u001b[0;32m      1\u001b[0m \u001b[38;5;28;01mimport\u001b[39;00m \u001b[38;5;21;01mseaborn\u001b[39;00m \u001b[38;5;28;01mas\u001b[39;00m \u001b[38;5;21;01msns\u001b[39;00m\n\u001b[0;32m      2\u001b[0m plt\u001b[38;5;241m.\u001b[39mfigure(figsize\u001b[38;5;241m=\u001b[39m(\u001b[38;5;241m10\u001b[39m,\u001b[38;5;241m6\u001b[39m))\n\u001b[0;32m      3\u001b[0m sns\u001b[38;5;241m.\u001b[39mscatterplot(\n\u001b[0;32m      4\u001b[0m     x\u001b[38;5;241m=\u001b[39m\u001b[38;5;124m\"\u001b[39m\u001b[38;5;124mPC 1\u001b[39m\u001b[38;5;124m\"\u001b[39m, y\u001b[38;5;241m=\u001b[39m\u001b[38;5;124m\"\u001b[39m\u001b[38;5;124mPC 2\u001b[39m\u001b[38;5;124m\"\u001b[39m,\n\u001b[0;32m      5\u001b[0m     hue\u001b[38;5;241m=\u001b[39m\u001b[38;5;124m\"\u001b[39m\u001b[38;5;124mClass\u001b[39m\u001b[38;5;124m\"\u001b[39m,\n\u001b[0;32m      6\u001b[0m     palette\u001b[38;5;241m=\u001b[39msns\u001b[38;5;241m.\u001b[39mcolor_palette(\u001b[38;5;124m\"\u001b[39m\u001b[38;5;124mtab10\u001b[39m\u001b[38;5;124m\"\u001b[39m, \u001b[38;5;241m2\u001b[39m),\n\u001b[1;32m----> 7\u001b[0m     data\u001b[38;5;241m=\u001b[39mprincipal_cifar_Df,\n\u001b[0;32m      8\u001b[0m     legend\u001b[38;5;241m=\u001b[39m\u001b[38;5;124m\"\u001b[39m\u001b[38;5;124mfull\u001b[39m\u001b[38;5;124m\"\u001b[39m,\n\u001b[0;32m      9\u001b[0m     alpha\u001b[38;5;241m=\u001b[39m\u001b[38;5;241m0.3\u001b[39m\n\u001b[0;32m     10\u001b[0m )\n",
      "\u001b[1;31mNameError\u001b[0m: name 'principal_cifar_Df' is not defined"
     ]
    },
    {
     "data": {
      "text/plain": [
       "<Figure size 1000x600 with 0 Axes>"
      ]
     },
     "metadata": {},
     "output_type": "display_data"
    }
   ],
   "source": [
    "'''import seaborn as sns\n",
    "plt.figure(figsize=(10,6))\n",
    "sns.scatterplot(\n",
    "    x=\"PC 1\", y=\"PC 2\",\n",
    "    hue=\"Class\",\n",
    "    palette=sns.color_palette(\"tab10\", 2),\n",
    "    data=principal_cifar_Df,\n",
    "    legend=\"full\",\n",
    "    alpha=0.3\n",
    ")'''\n"
   ]
  },
  {
   "cell_type": "code",
   "execution_count": 15,
   "metadata": {},
   "outputs": [
    {
     "data": {
      "text/plain": [
       "100.0"
      ]
     },
     "execution_count": 15,
     "metadata": {},
     "output_type": "execute_result"
    }
   ],
   "source": [
    "total_var"
   ]
  },
  {
   "cell_type": "code",
   "execution_count": 16,
   "metadata": {},
   "outputs": [
    {
     "data": {
      "text/plain": [
       "array([1.95826326, 1.6836999 , 1.00000351, 1.00000351, 1.00000351,\n",
       "       1.00000351, 1.00000351, 1.00000351, 1.00000351, 1.00000351,\n",
       "       1.00000351, 1.00000351, 1.00000351, 1.00000351, 1.00000351,\n",
       "       1.00000351, 1.00000351, 1.00000351, 1.00000351, 1.00000351,\n",
       "       1.00000351, 1.00000351, 1.00000351, 1.00000351, 1.00000351,\n",
       "       1.00000351, 1.00000351, 1.00000351, 0.31589583, 0.04215505])"
      ]
     },
     "execution_count": 16,
     "metadata": {},
     "output_type": "execute_result"
    }
   ],
   "source": [
    "pca.explained_variance_"
   ]
  },
  {
   "cell_type": "code",
   "execution_count": 17,
   "metadata": {},
   "outputs": [
    {
     "data": {
      "text/plain": [
       "array([[-2.96469381e-002, -1.71551708e-001, -3.91550227e-001,\n",
       "        -1.42527692e-001,  7.60644765e-002, -2.90266052e-001,\n",
       "         1.61221068e-001,  2.90369129e-001, -7.48706686e-002,\n",
       "        -3.23601835e-002, -7.57981588e-002,  7.73979574e-003,\n",
       "        -1.08835632e-002,  5.94243378e-003,  2.79445747e-002,\n",
       "         3.47389435e-003, -3.25126610e-003,  7.65762160e-003,\n",
       "         2.34916899e-002, -4.23038385e-002,  2.51860652e-001,\n",
       "         7.67829506e-002, -5.22430310e-002, -8.46411154e-002,\n",
       "         4.29562695e-003, -2.80652214e-002, -1.08463906e-003,\n",
       "         2.14156758e-002,  7.85595056e-003,  7.06648939e-001],\n",
       "       [ 7.06467241e-001,  1.12951322e-001, -3.04452610e-002,\n",
       "        -4.41333161e-001, -1.05143553e-001,  1.64660368e-001,\n",
       "        -5.71904595e-002,  1.02114748e-001, -4.19624871e-002,\n",
       "        -1.05724167e-002,  2.79120063e-002, -2.55935941e-001,\n",
       "         1.28139875e-001, -6.79029306e-002, -1.00807885e-001,\n",
       "        -1.89673502e-001,  1.21558889e-002, -7.54704876e-002,\n",
       "         9.47586719e-002,  2.78800941e-002, -4.01065337e-002,\n",
       "         5.01152711e-002,  1.46479795e-001,  4.87130268e-002,\n",
       "        -1.65320413e-002, -2.42601861e-001, -4.29040480e-002,\n",
       "        -4.24792219e-003, -9.34981013e-003,  2.50869010e-002],\n",
       "       [ 6.62756371e-015,  2.98276884e-002,  1.92042070e-002,\n",
       "        -1.67002688e-001, -1.41256160e-002,  5.38409525e-002,\n",
       "        -3.57170049e-002,  9.31386289e-003, -2.10789069e-002,\n",
       "         5.06128407e-002, -2.33583244e-002, -3.36771772e-002,\n",
       "        -6.90489802e-001,  6.85396865e-001,  1.67295942e-002,\n",
       "        -5.65170559e-002,  1.60783005e-002, -1.74560095e-002,\n",
       "         4.88272038e-002,  6.53228047e-003, -2.59096399e-002,\n",
       "         8.11982283e-003,  3.13354386e-002, -8.23772785e-003,\n",
       "        -5.68500776e-002, -6.00039488e-002, -8.59936529e-003,\n",
       "         8.54321006e-005, -1.60719252e-003, -5.72568374e-017],\n",
       "       [-4.32757501e-157,  5.89097446e-002, -3.20929490e-001,\n",
       "         2.28347603e-001, -3.87161595e-002,  2.12235869e-001,\n",
       "         3.83480237e-001, -4.42959036e-002,  3.67900067e-002,\n",
       "         2.02623564e-001,  4.81717408e-002,  5.16776512e-002,\n",
       "         1.42250046e-002,  5.49168411e-003,  8.14604982e-002,\n",
       "        -5.68969790e-001,  1.40513061e-002, -3.83255232e-002,\n",
       "         1.40903464e-001,  3.00802863e-002, -2.67797048e-001,\n",
       "        -1.83046881e-001, -2.15663707e-001, -9.73067283e-002,\n",
       "        -4.00361577e-002, -2.90582858e-003, -1.15214810e-001,\n",
       "         1.70692131e-001,  2.00464104e-001, -6.92122669e-016],\n",
       "       [-3.39305185e-084, -3.21557665e-002,  2.13078906e-001,\n",
       "        -1.35434897e-001,  1.21279144e-001, -3.74847771e-002,\n",
       "         1.40766916e-001,  4.44950838e-002, -1.20038144e-001,\n",
       "        -1.53969888e-001,  1.23271883e-001,  2.52477418e-001,\n",
       "        -2.05848642e-002, -3.61515962e-002, -3.74617128e-001,\n",
       "         9.77940488e-002, -3.06477961e-001, -3.58761407e-001,\n",
       "         5.25690904e-001,  5.35365685e-002, -6.94095611e-002,\n",
       "         6.51431038e-002, -1.52611798e-001, -8.91626204e-002,\n",
       "        -1.34634715e-001,  1.84257763e-001,  3.98251104e-002,\n",
       "        -2.60709763e-002,  1.79227456e-001,  4.32420064e-016],\n",
       "       [-0.00000000e+000, -7.52673165e-002, -3.50085068e-001,\n",
       "        -1.62874511e-001,  1.89386365e-001,  3.09749067e-001,\n",
       "        -1.42104383e-001,  3.45605912e-002,  1.35647261e-001,\n",
       "        -1.02226391e-001, -3.90279512e-002,  1.28562181e-002,\n",
       "        -2.14897540e-002, -1.44068136e-002, -5.97200222e-002,\n",
       "         4.51303573e-001,  2.13298849e-002, -1.13671290e-002,\n",
       "         9.67514097e-003, -1.30060877e-001, -2.52296772e-001,\n",
       "        -2.49197765e-001, -3.23052266e-001,  2.86601680e-001,\n",
       "         5.57792174e-002,  4.99789532e-003, -3.11126392e-001,\n",
       "         1.50736768e-001, -3.30176023e-002, -9.32556412e-016],\n",
       "       [-0.00000000e+000, -9.05834046e-002, -2.86520310e-001,\n",
       "        -9.70931727e-002,  1.79371318e-001,  1.46623747e-001,\n",
       "         2.05372058e-001, -3.93359912e-001, -3.21373528e-001,\n",
       "        -4.48172796e-002,  5.64678936e-003,  9.74899600e-002,\n",
       "         2.65899250e-002,  7.13691687e-003,  1.18500866e-001,\n",
       "         1.81246383e-001,  5.28860923e-002,  7.24463050e-002,\n",
       "         2.50206179e-002, -2.36044991e-001, -2.38039681e-001,\n",
       "         1.15027299e-001,  3.35506050e-001,  2.15699173e-002,\n",
       "        -3.79605894e-003, -8.03895895e-002,  3.61645808e-001,\n",
       "        -2.37658662e-001,  2.14840312e-001,  3.59015218e-016],\n",
       "       [-0.00000000e+000, -1.77854576e-001,  8.09401776e-002,\n",
       "        -1.19231302e-001,  4.79667814e-002, -2.94817344e-001,\n",
       "         1.49019792e-001, -4.41152993e-001,  3.75944918e-002,\n",
       "        -2.13855563e-001, -1.72784103e-001,  8.65243598e-002,\n",
       "        -2.95982912e-002, -2.88258522e-002, -1.60709478e-001,\n",
       "        -9.56282471e-002,  6.75588647e-002, -7.01387547e-002,\n",
       "        -1.92478614e-002,  1.19064669e-001, -4.58619529e-002,\n",
       "        -2.62839984e-001, -1.50074619e-001, -7.33024793e-003,\n",
       "         7.64163033e-002, -4.26553220e-001,  1.68843487e-001,\n",
       "         2.73589075e-001, -3.33842361e-001,  9.07792522e-016],\n",
       "       [ 0.00000000e+000,  6.31832030e-002,  4.27188598e-002,\n",
       "        -2.14134700e-001,  4.78604264e-002,  3.04389584e-002,\n",
       "         3.07832210e-001, -2.75734193e-002,  1.40197656e-001,\n",
       "         3.26495557e-001,  9.64466875e-002,  2.12099249e-001,\n",
       "         1.28126653e-003, -1.53941550e-002, -3.63380074e-003,\n",
       "         9.72435968e-002, -3.75662155e-001,  4.19554673e-002,\n",
       "        -3.39305412e-001,  1.50750030e-001, -1.01517008e-001,\n",
       "         1.44152493e-001, -1.90792700e-001, -1.12233248e-001,\n",
       "         8.66495467e-002, -1.92091003e-001, -1.58720404e-001,\n",
       "        -4.34579786e-001, -2.00153848e-001, -2.19771410e-016],\n",
       "       [-1.60082309e-127, -5.37150428e-002,  2.79500436e-001,\n",
       "        -4.78197672e-003,  2.92333938e-002,  8.33941513e-002,\n",
       "         3.68463023e-001,  2.52738765e-001,  2.75895458e-001,\n",
       "         1.51947040e-001, -5.73367634e-002,  3.21867071e-002,\n",
       "         2.83451862e-002, -3.54334860e-003,  1.47162027e-001,\n",
       "         3.50780050e-001,  1.93793271e-001, -1.09267225e-001,\n",
       "        -1.42977647e-002,  2.23349161e-002,  6.16972546e-002,\n",
       "        -2.58107748e-001,  2.40909771e-001, -1.24458083e-001,\n",
       "        -2.14361364e-001, -3.09179657e-001,  2.34627209e-002,\n",
       "         1.68027961e-001,  3.13037685e-001,  4.71800437e-016],\n",
       "       [-0.00000000e+000, -6.79835738e-002, -2.64030814e-001,\n",
       "         2.24410366e-001, -1.59358109e-001,  1.67767062e-001,\n",
       "         1.23866172e-001,  1.56690410e-001,  2.88854987e-001,\n",
       "        -1.56977573e-001, -4.30054448e-002, -9.41179293e-002,\n",
       "        -4.30421952e-002,  7.39991595e-003, -1.60212781e-001,\n",
       "         1.29039592e-001, -6.81034533e-002, -1.96093178e-001,\n",
       "        -4.90538843e-002,  2.16274981e-001, -2.85073794e-001,\n",
       "         2.85774330e-001,  2.87134526e-001, -1.24328021e-001,\n",
       "        -1.38546238e-001,  1.08405063e-001,  2.12335884e-001,\n",
       "         1.33705621e-001, -4.14532213e-001, -2.65998832e-016],\n",
       "       [-0.00000000e+000, -1.39245114e-001,  1.47721399e-001,\n",
       "        -2.05701126e-001,  9.43306751e-002,  1.03678427e-001,\n",
       "         1.94368088e-001, -1.65499762e-001, -1.30223345e-001,\n",
       "        -1.43700227e-001, -1.00325926e-001, -8.44384783e-002,\n",
       "        -8.98116920e-003, -1.53363963e-002, -2.00127200e-002,\n",
       "        -6.11937984e-002, -2.15659864e-001,  4.67465697e-002,\n",
       "        -2.85290028e-001, -2.32521755e-001,  3.58592788e-002,\n",
       "        -2.41932571e-002,  2.65447040e-001, -3.38010025e-001,\n",
       "         1.83765923e-002,  3.50632302e-001, -4.03456977e-001,\n",
       "         3.37474971e-001, -4.13840950e-002,  1.35478638e-016],\n",
       "       [-1.49345317e-098,  2.78757935e-001, -8.49080830e-002,\n",
       "         1.01341234e-001,  1.63329281e-001, -1.80696751e-001,\n",
       "        -2.68282904e-002,  3.64862674e-002, -2.98449701e-001,\n",
       "        -2.21254283e-001,  2.83344728e-001,  1.65648725e-001,\n",
       "        -1.31868399e-002,  2.78911292e-002, -7.11367412e-002,\n",
       "         8.15301070e-002,  2.43642548e-001, -5.17566437e-002,\n",
       "        -2.06867849e-001,  4.53962538e-001, -1.68990563e-001,\n",
       "         1.52716373e-001,  1.44534249e-001, -4.59588023e-002,\n",
       "         8.82506981e-002, -1.63919510e-001, -3.37396901e-001,\n",
       "         1.38796042e-001,  1.77395023e-001, -8.35913921e-016],\n",
       "       [-6.02174329e-142, -3.52797214e-001,  6.83761540e-003,\n",
       "        -2.15079574e-001,  2.24761515e-002, -3.58928416e-001,\n",
       "        -3.22773342e-001,  8.43291765e-003,  2.71404840e-001,\n",
       "         1.66085463e-001, -2.06086775e-002, -6.02049288e-002,\n",
       "         3.17381155e-002,  1.02157555e-003,  1.07336968e-001,\n",
       "        -9.03825704e-002, -3.48081054e-002, -1.53998919e-001,\n",
       "        -1.26663700e-001,  1.19663871e-001, -4.74677534e-001,\n",
       "        -4.86132654e-003,  4.64438674e-002, -1.15383877e-001,\n",
       "         1.61310874e-001,  1.54783567e-001,  8.85753874e-002,\n",
       "         9.93160186e-003,  3.40029494e-001,  4.62519613e-017],\n",
       "       [ 5.26951821e-113, -2.81704691e-001,  2.05372949e-001,\n",
       "         7.22199336e-002, -6.16751235e-002, -1.71683159e-001,\n",
       "         1.95340892e-001,  2.55379236e-002,  4.84030991e-002,\n",
       "        -2.74887137e-002,  6.06760997e-002, -6.69189332e-002,\n",
       "         1.48652073e-003,  3.68471658e-003, -1.35591360e-001,\n",
       "        -6.06096984e-002,  4.56983022e-001,  5.50559140e-002,\n",
       "         1.03491915e-001, -3.62037140e-001, -2.58373329e-001,\n",
       "         3.54533375e-001, -8.49645366e-002,  1.12337662e-001,\n",
       "        -1.44810762e-001, -6.80771557e-002, -3.48146599e-001,\n",
       "        -2.00549671e-001, -1.21903912e-001,  8.38118651e-016],\n",
       "       [-0.00000000e+000,  1.54474751e-001, -1.18956609e-001,\n",
       "        -1.09225987e-001, -4.06952533e-001, -7.37930028e-002,\n",
       "        -2.07376823e-001, -9.06940090e-002, -1.16724105e-001,\n",
       "         1.10436823e-001,  1.29444773e-001,  6.97519228e-002,\n",
       "         3.77388443e-002, -1.96647044e-002,  1.99138337e-002,\n",
       "         2.50963460e-001,  1.19227462e-001,  2.26856284e-001,\n",
       "         1.33718748e-001, -1.07316715e-001, -1.29752897e-001,\n",
       "        -5.78898390e-002, -2.06693146e-001, -6.22056411e-001,\n",
       "        -2.37324610e-001, -5.06188450e-002,  1.90840369e-002,\n",
       "         7.81721284e-002, -6.95547667e-002,  7.36194321e-017],\n",
       "       [ 0.00000000e+000,  1.63420290e-001, -1.59029372e-001,\n",
       "        -8.11093413e-002,  1.26234739e-001,  5.32009322e-003,\n",
       "        -9.34677375e-002, -1.46688518e-001,  1.40746666e-001,\n",
       "         2.86063655e-001,  7.45537718e-002,  2.00620619e-001,\n",
       "         3.54666632e-003, -1.55710061e-002, -1.66695125e-001,\n",
       "        -4.63860723e-002,  4.12524928e-001, -5.05097217e-001,\n",
       "        -2.40821566e-002, -1.46006270e-001,  2.14315857e-001,\n",
       "        -1.91044318e-001,  1.88554703e-001, -1.51283799e-001,\n",
       "         1.40159686e-001,  1.96370560e-001, -5.91444113e-002,\n",
       "        -1.68260961e-001, -1.98700684e-001, -9.67975700e-016],\n",
       "       [-0.00000000e+000,  2.40533217e-001,  1.03782083e-001,\n",
       "        -2.84190547e-002, -2.24602430e-001,  3.52039164e-002,\n",
       "         3.83665145e-002,  3.45740119e-001, -4.11170657e-002,\n",
       "        -1.99412143e-001, -4.15066134e-001,  4.09736327e-001,\n",
       "        -1.16882734e-002,  4.16258830e-003, -5.37645842e-002,\n",
       "        -6.15364874e-002,  5.16350701e-002,  5.25636928e-002,\n",
       "        -2.18627128e-002, -2.47446143e-001, -2.29617497e-001,\n",
       "        -1.78858802e-002,  4.65296311e-002, -5.36541223e-002,\n",
       "         4.85284195e-001, -3.95806636e-002,  8.04588356e-002,\n",
       "        -1.75035861e-002,  1.86760871e-002,  2.90566182e-017],\n",
       "       [ 1.60666335e-156,  3.52791801e-001,  6.25848792e-002,\n",
       "        -2.87534275e-002,  5.25412914e-001, -2.62604591e-001,\n",
       "        -3.53870364e-002,  2.29598223e-001,  2.79988324e-002,\n",
       "         1.90679419e-001,  1.07452507e-001, -1.57438462e-002,\n",
       "        -1.35395386e-002, -4.70003888e-002, -7.01149109e-002,\n",
       "        -8.85467925e-002, -8.32171882e-002,  2.71457589e-001,\n",
       "         4.87130662e-002, -2.31773341e-001, -2.75882313e-001,\n",
       "        -1.24432094e-001,  1.32235732e-001,  4.70508540e-002,\n",
       "        -2.09127174e-001,  3.37315186e-002,  1.60913977e-001,\n",
       "         1.56524129e-001, -2.53881109e-001, -5.16947596e-016],\n",
       "       [ 4.92507277e-015,  1.66511465e-001,  4.72733326e-002,\n",
       "        -3.51357793e-002, -8.90226438e-002, -1.22923170e-001,\n",
       "         3.71634213e-001,  1.16555301e-002, -1.11928140e-001,\n",
       "         3.27965631e-002,  1.66373876e-002, -5.39373468e-001,\n",
       "        -1.27777860e-001, -6.77468778e-002, -2.66773067e-001,\n",
       "         1.93045941e-001,  1.79818890e-001,  9.29507035e-002,\n",
       "        -5.58915023e-002,  1.40646722e-001, -8.81684385e-002,\n",
       "        -2.15324798e-001, -1.57706168e-001, -1.42061547e-002,\n",
       "         2.94846478e-001,  3.04582811e-001,  1.68186989e-001,\n",
       "        -1.33395697e-001,  6.69943786e-002, -5.15646553e-016],\n",
       "       [-5.33474494e-070, -1.72403121e-001, -4.12569823e-002,\n",
       "        -1.21024397e-001, -1.94493173e-003,  1.92477977e-001,\n",
       "        -7.24450000e-002,  2.96564054e-002,  9.79038379e-002,\n",
       "         6.56613070e-002, -3.47204125e-002,  2.74124064e-001,\n",
       "        -6.51852207e-002, -7.01910230e-002, -5.98059579e-001,\n",
       "        -1.42706489e-001,  1.84259687e-001,  3.72886479e-001,\n",
       "        -2.91821991e-001,  1.19469401e-001,  1.24522464e-001,\n",
       "         1.34095067e-002, -1.32573896e-002,  5.24907965e-002,\n",
       "        -2.28784804e-001,  9.17129914e-002,  1.74148628e-001,\n",
       "         3.38117373e-002,  2.23642580e-001,  4.87890978e-016],\n",
       "       [ 0.00000000e+000, -2.35414540e-001,  8.44405826e-002,\n",
       "         1.99957468e-001,  3.69078995e-001,  2.53440732e-001,\n",
       "        -1.91773825e-001,  2.39506188e-001, -1.85804681e-001,\n",
       "        -2.37689454e-001, -8.52486552e-002, -1.88293271e-001,\n",
       "         4.81059948e-003,  1.25750860e-002, -4.63804884e-002,\n",
       "        -1.29166829e-001,  5.30699471e-002, -8.64643782e-002,\n",
       "        -1.10937658e-001,  2.39743724e-002, -6.24208643e-002,\n",
       "        -2.19655666e-001, -1.31209694e-001, -4.31826862e-001,\n",
       "        -3.73932202e-002, -1.84918842e-001,  5.01083929e-002,\n",
       "        -3.59451834e-001, -6.16237466e-002, -4.74880552e-016],\n",
       "       [ 1.08247802e-055,  1.15692006e-002,  1.57735613e-001,\n",
       "        -3.45515590e-001,  6.70990800e-002,  1.29080048e-001,\n",
       "         1.42195233e-001,  9.80851302e-002, -9.14874338e-002,\n",
       "        -1.63657394e-001,  3.01467490e-002,  1.67219975e-001,\n",
       "         2.39847422e-001,  1.79623635e-001,  3.93246872e-001,\n",
       "        -7.08813294e-002,  3.09016984e-001, -5.84197135e-002,\n",
       "        -1.32550785e-001,  1.99067639e-001, -5.19170847e-002,\n",
       "         4.92017645e-002, -2.79252470e-001,  7.11359313e-002,\n",
       "        -1.92335475e-001,  3.45376774e-001,  2.36826725e-001,\n",
       "         4.70906617e-002, -1.79649129e-001,  1.20514492e-015],\n",
       "       [-0.00000000e+000, -3.84547288e-001,  9.85954716e-002,\n",
       "        -2.52574224e-002,  3.29979806e-002,  2.04879283e-001,\n",
       "         1.61798290e-002,  1.46508859e-001, -6.73829910e-002,\n",
       "         1.66992636e-001,  5.09425728e-001,  1.14705566e-001,\n",
       "        -2.48369934e-002, -3.75980175e-003,  4.19734916e-002,\n",
       "         1.36107621e-002,  6.34357318e-002,  2.38882526e-001,\n",
       "         2.41237969e-001,  7.11850849e-002,  4.49698528e-002,\n",
       "        -2.54170610e-002,  1.15125573e-001, -5.56759500e-002,\n",
       "         4.86680492e-001, -2.74151080e-002,  8.53665572e-002,\n",
       "         1.87842518e-001, -2.13870454e-001,  8.18789481e-016],\n",
       "       [ 0.00000000e+000, -1.80139129e-001,  5.67122724e-002,\n",
       "         5.21261172e-002, -2.17852266e-002,  3.01751733e-002,\n",
       "        -6.21425592e-002,  6.25999744e-002, -5.01487276e-001,\n",
       "         5.20893619e-001, -4.76118471e-001,  3.03399071e-002,\n",
       "         2.11772416e-002, -5.23571860e-002, -3.26522387e-002,\n",
       "         9.51257102e-002,  4.05812678e-002, -4.54227684e-002,\n",
       "         1.17050344e-001,  2.74309973e-001, -1.16059977e-001,\n",
       "        -1.42743524e-002,  8.31077072e-002,  1.13852565e-001,\n",
       "        -9.53389648e-002,  4.36983058e-002, -1.22595447e-001,\n",
       "         7.56286796e-002, -1.75410733e-001,  4.28910379e-016],\n",
       "       [-6.03337149e-157, -1.56851427e-001, -5.22820287e-002,\n",
       "         4.02560872e-003, -3.72176340e-001, -1.67165837e-001,\n",
       "         3.75883143e-002,  1.55129247e-001, -1.83261339e-001,\n",
       "        -1.60063226e-001,  2.63132330e-001,  1.44232038e-001,\n",
       "        -1.63491580e-002,  6.63938026e-003,  4.24330890e-003,\n",
       "        -6.28004755e-002, -1.37273695e-001, -3.21146877e-002,\n",
       "        -1.25664113e-001, -2.94673694e-002, -1.22846666e-001,\n",
       "        -5.53258734e-001,  2.53030937e-001,  2.43534120e-001,\n",
       "        -2.31881943e-001,  8.28675797e-002, -8.74250401e-002,\n",
       "        -2.50084379e-001, -1.23748896e-001, -1.17137203e-015],\n",
       "       [ 0.00000000e+000, -3.02490498e-002,  6.11688465e-002,\n",
       "         1.03410559e-001, -1.19005820e-001,  3.11786271e-002,\n",
       "        -3.20697102e-002,  1.33079934e-001, -3.06092344e-001,\n",
       "         1.79924941e-001,  2.38653154e-001, -7.10264544e-002,\n",
       "        -1.34716038e-002,  1.60849188e-002, -1.15114714e-001,\n",
       "         3.43338853e-002, -9.12417507e-002, -3.96485610e-001,\n",
       "        -4.30241582e-001, -3.52831494e-001, -2.08406906e-002,\n",
       "         1.35678530e-001, -2.43152482e-001,  9.98666619e-002,\n",
       "        -1.29580873e-003, -1.54089202e-001,  2.53690151e-001,\n",
       "         3.05929318e-001,  5.55024770e-002,  5.83897080e-016],\n",
       "       [-2.70192367e-015,  7.76017616e-003,  3.60817156e-002,\n",
       "        -1.15425259e-001, -1.56757363e-003,  6.33138810e-002,\n",
       "        -1.98037448e-002,  2.91133276e-002, -2.39922324e-002,\n",
       "        -6.22115478e-002,  1.81508014e-002,  6.30509346e-002,\n",
       "        -6.34143577e-001, -6.85070555e-001,  2.58708615e-001,\n",
       "        -6.35752107e-002,  8.26559825e-002, -7.04705089e-002,\n",
       "        -1.94603388e-002,  3.10116319e-002, -1.33729218e-002,\n",
       "         6.43284629e-002, -4.60931517e-002,  7.70741336e-003,\n",
       "        -8.44278995e-002,  2.33031557e-002,  3.21525944e-002,\n",
       "        -1.55422347e-003, -2.31243555e-002,  9.25800235e-016],\n",
       "       [-7.07121029e-001,  1.20567324e-001, -1.27667954e-002,\n",
       "        -4.34456704e-001, -1.08463938e-001,  1.77573804e-001,\n",
       "        -6.43980558e-002,  8.89230144e-002, -3.85450091e-002,\n",
       "        -9.10309271e-003,  3.12996107e-002, -2.56022242e-001,\n",
       "         1.28498956e-001, -6.81011038e-002, -1.01963945e-001,\n",
       "        -1.89635508e-001,  1.22899548e-002, -7.57382019e-002,\n",
       "         9.36026961e-002,  2.97581366e-002, -5.14167959e-002,\n",
       "         4.66032433e-002,  1.48684142e-001,  5.24778476e-002,\n",
       "        -1.67086878e-002, -2.41088101e-001, -4.28111532e-002,\n",
       "        -5.20877293e-003, -9.69428833e-003, -2.33919242e-003],\n",
       "       [-2.22426359e-003, -1.67830078e-001, -3.92329728e-001,\n",
       "        -1.56653944e-001,  7.26428250e-002, -2.84820138e-001,\n",
       "         1.59298716e-001,  2.93506148e-001, -7.61824858e-002,\n",
       "        -3.26838003e-002, -7.48614224e-002, -4.98413394e-004,\n",
       "        -6.75534506e-003,  3.75474967e-003,  2.46869964e-002,\n",
       "        -2.63026683e-003, -2.85851248e-003,  5.22558947e-003,\n",
       "         2.65283707e-002, -4.13852389e-002,  2.50441641e-001,\n",
       "         7.83560914e-002, -4.75036328e-002, -8.30306282e-002,\n",
       "         3.76154540e-003, -3.58561413e-002, -2.46444168e-003,\n",
       "         2.12680671e-002,  7.55112499e-003, -7.07115586e-001]])"
      ]
     },
     "execution_count": 17,
     "metadata": {},
     "output_type": "execute_result"
    }
   ],
   "source": [
    "pca.components_"
   ]
  },
  {
   "cell_type": "code",
   "execution_count": 18,
   "metadata": {},
   "outputs": [
    {
     "data": {
      "text/plain": [
       "array([1.95826326, 1.6836999 , 1.00000351, 1.00000351, 1.00000351,\n",
       "       1.00000351, 1.00000351, 1.00000351, 1.00000351, 1.00000351,\n",
       "       1.00000351, 1.00000351, 1.00000351, 1.00000351, 1.00000351,\n",
       "       1.00000351, 1.00000351, 1.00000351, 1.00000351, 1.00000351,\n",
       "       1.00000351, 1.00000351, 1.00000351, 1.00000351, 1.00000351,\n",
       "       1.00000351, 1.00000351, 1.00000351, 0.31589583, 0.04215505])"
      ]
     },
     "execution_count": 18,
     "metadata": {},
     "output_type": "execute_result"
    }
   ],
   "source": [
    "explained_variance = pca.explained_variance_\n",
    "explained_variance"
   ]
  },
  {
   "cell_type": "code",
   "execution_count": 19,
   "metadata": {},
   "outputs": [],
   "source": [
    "pca.n_components"
   ]
  },
  {
   "cell_type": "code",
   "execution_count": null,
   "metadata": {},
   "outputs": [],
   "source": []
  },
  {
   "cell_type": "code",
   "execution_count": 20,
   "metadata": {},
   "outputs": [
    {
     "data": {
      "image/png": "[encoded data removed]",
      "text/plain": [
       "<Figure size 640x480 with 1 Axes>"
      ]
     },
     "metadata": {},
     "output_type": "display_data"
    },
    {
     "name": "stdout",
     "output_type": "stream",
     "text": [
      "[1.95826326 1.6836999  1.00000351 1.00000351 1.00000351 1.00000351\n",
      " 1.00000351 1.00000351 1.00000351 1.00000351 1.00000351 1.00000351\n",
      " 1.00000351 1.00000351 1.00000351 1.00000351 1.00000351 1.00000351\n",
      " 1.00000351 1.00000351 1.00000351 1.00000351 1.00000351 1.00000351\n",
      " 1.00000351 1.00000351 1.00000351 1.00000351 0.31589583 0.04215505]\n"
     ]
    }
   ],
   "source": [
    "plt.bar(\n",
    "    range(1,len(pca.explained_variance_)+1),\n",
    "    pca.explained_variance_\n",
    "    )\n",
    "\n",
    "\n",
    "plt.xlabel('Principal component')\n",
    "plt.ylabel('Explained variance')\n",
    "plt.title('Feature Explained Variance')\n",
    "plt.show()\n",
    "print(pca.explained_variance_)"
   ]
  },
  {
   "cell_type": "code",
   "execution_count": null,
   "metadata": {},
   "outputs": [],
   "source": []
  },
  {
   "cell_type": "code",
   "execution_count": 21,
   "metadata": {},
   "outputs": [
    {
     "name": "stdout",
     "output_type": "stream",
     "text": [
      "cumulative_var_ratio [0.06527521 0.12139835 0.15473168 0.18806501 0.22139835 0.25473168\n",
      " 0.28806501 0.32139835 0.35473168 0.38806501 0.42139835 0.45473168\n",
      " 0.48806501 0.52139835 0.55473168 0.58806501 0.62139835 0.65473168\n",
      " 0.68806501 0.72139835 0.75473168 0.78806501 0.82139835 0.85473168\n",
      " 0.88806501 0.92139835 0.95473168 0.98806501 0.99859484 1.        ]\n"
     ]
    },
    {
     "data": {
      "image/png": "[encoded data removed]",
      "text/plain": [
       "<Figure size 640x480 with 1 Axes>"
      ]
     },
     "metadata": {},
     "output_type": "display_data"
    },
    {
     "data": {
      "text/plain": [
       "<Figure size 100x100 with 0 Axes>"
      ]
     },
     "metadata": {},
     "output_type": "display_data"
    }
   ],
   "source": [
    "explained_var_ratio = pca.explained_variance_ratio_\n",
    "cumulative_var_ratio = np.cumsum(explained_var_ratio)\n",
    "print('cumulative_var_ratio',cumulative_var_ratio)\n",
    "plt.plot(range(1, len(cumulative_var_ratio) + 1), cumulative_var_ratio, marker='o')\n",
    "plt.xlabel('Number of Principal Components')\n",
    "plt.ylabel('Cumulative Explained Variance')\n",
    "plt.title('Explained Variance Ratio vs. Number of Principal Components')\n",
    "plt.figure(figsize=(1,1))\n",
    "plt.show()"
   ]
  },
  {
   "cell_type": "code",
   "execution_count": 22,
   "metadata": {},
   "outputs": [
    {
     "data": {
      "text/plain": [
       "30"
      ]
     },
     "execution_count": 22,
     "metadata": {},
     "output_type": "execute_result"
    }
   ],
   "source": [
    "pca.n_components_"
   ]
  },
  {
   "cell_type": "code",
   "execution_count": 23,
   "metadata": {},
   "outputs": [],
   "source": [
    "X_train, X_test, Y_train, Y_test = train_test_split(x_pca, Y, test_size=0.2, random_state=30)"
   ]
  },
  {
   "cell_type": "code",
   "execution_count": 24,
   "metadata": {},
   "outputs": [],
   "source": [
    "sm = SMOTE(random_state=12, sampling_strategy=1.0)\n",
    "x_train_res, y_train_res = sm.fit_resample(X_train, Y_train)\n",
    "unique, count = np.unique(y_train_res, return_counts=True)\n",
    "y_train_smote_value_count = { k:v for (k,v) in zip(unique, count)}\n",
    "y_train_smote_value_count\n",
    "X_train=x_train_res\n",
    "Y_train=y_train_res"
   ]
  },
  {
   "cell_type": "code",
   "execution_count": 25,
   "metadata": {},
   "outputs": [
    {
     "data": {
      "text/plain": [
       "array([[-0.45208557, -0.91050733, -0.72313965, ...,  0.47465288,\n",
       "         0.01479813,  0.00974253],\n",
       "       [-0.22496909,  1.60053674, -0.41071282, ...,  0.34939028,\n",
       "        -0.16503656, -0.02359704],\n",
       "       [-0.45497005,  1.3772829 , -0.27395371, ..., -0.78984265,\n",
       "        -0.70802596, -0.0197811 ],\n",
       "       ...,\n",
       "       [-0.21474802, -0.01847791,  2.71144867, ...,  2.85678501,\n",
       "        -0.1329818 , -0.09965828],\n",
       "       [-0.50640713, -2.45754775,  9.29406158, ...,  6.31085109,\n",
       "        -0.83633454, -0.15142938],\n",
       "       [-0.95469629,  1.68534715,  5.66997045, ...,  3.79244427,\n",
       "         0.01842089, -0.4004533 ]])"
      ]
     },
     "execution_count": 25,
     "metadata": {},
     "output_type": "execute_result"
    }
   ],
   "source": [
    "X_train"
   ]
  },
  {
   "cell_type": "code",
   "execution_count": 26,
   "metadata": {},
   "outputs": [
    {
     "data": {
      "text/html": [
       "<div>\n",
       "<style scoped>\n",
       "    .dataframe tbody tr th:only-of-type {\n",
       "        vertical-align: middle;\n",
       "    }\n",
       "\n",
       "    .dataframe tbody tr th {\n",
       "        vertical-align: top;\n",
       "    }\n",
       "\n",
       "    .dataframe thead th {\n",
       "        text-align: right;\n",
       "    }\n",
       "</style>\n",
       "<table border=\"1\" class=\"dataframe\">\n",
       "  <thead>\n",
       "    <tr style=\"text-align: right;\">\n",
       "      <th></th>\n",
       "      <th>Class</th>\n",
       "    </tr>\n",
       "  </thead>\n",
       "  <tbody>\n",
       "    <tr>\n",
       "      <th>0</th>\n",
       "      <td>0</td>\n",
       "    </tr>\n",
       "    <tr>\n",
       "      <th>1</th>\n",
       "      <td>0</td>\n",
       "    </tr>\n",
       "    <tr>\n",
       "      <th>2</th>\n",
       "      <td>0</td>\n",
       "    </tr>\n",
       "    <tr>\n",
       "      <th>3</th>\n",
       "      <td>0</td>\n",
       "    </tr>\n",
       "    <tr>\n",
       "      <th>4</th>\n",
       "      <td>0</td>\n",
       "    </tr>\n",
       "    <tr>\n",
       "      <th>...</th>\n",
       "      <td>...</td>\n",
       "    </tr>\n",
       "    <tr>\n",
       "      <th>454925</th>\n",
       "      <td>1</td>\n",
       "    </tr>\n",
       "    <tr>\n",
       "      <th>454926</th>\n",
       "      <td>1</td>\n",
       "    </tr>\n",
       "    <tr>\n",
       "      <th>454927</th>\n",
       "      <td>1</td>\n",
       "    </tr>\n",
       "    <tr>\n",
       "      <th>454928</th>\n",
       "      <td>1</td>\n",
       "    </tr>\n",
       "    <tr>\n",
       "      <th>454929</th>\n",
       "      <td>1</td>\n",
       "    </tr>\n",
       "  </tbody>\n",
       "</table>\n",
       "<p>454930 rows × 1 columns</p>\n",
       "</div>"
      ],
      "text/plain": [
       "        Class\n",
       "0           0\n",
       "1           0\n",
       "2           0\n",
       "3           0\n",
       "4           0\n",
       "...       ...\n",
       "454925      1\n",
       "454926      1\n",
       "454927      1\n",
       "454928      1\n",
       "454929      1\n",
       "\n",
       "[454930 rows x 1 columns]"
      ]
     },
     "execution_count": 26,
     "metadata": {},
     "output_type": "execute_result"
    }
   ],
   "source": [
    "Y_train"
   ]
  },
  {
   "cell_type": "markdown",
   "metadata": {},
   "source": [
    "# XGBoost"
   ]
  },
  {
   "cell_type": "code",
   "execution_count": 27,
   "metadata": {},
   "outputs": [
    {
     "name": "stdout",
     "output_type": "stream",
     "text": [
      "Elapsed time :  4.258695799973793\n",
      "Accuracy on Training data : ,  1.0\n",
      "Elapsed time :  0.6289275999879465\n",
      "Accuracy score on Test data : 0.9995084442259752\n",
      "Accuracy =  0.9995084442259752\n",
      "Precision =  0.92\n",
      "Recall =  0.8214285714285714\n",
      "F1 Score =  0.8679245283018867\n",
      "[[56842    20]\n",
      " [    8    92]]\n"
     ]
    },
    {
     "data": {
      "text/plain": [
       "<Axes: >"
      ]
     },
     "execution_count": 27,
     "metadata": {},
     "output_type": "execute_result"
    },
    {
     "data": {
      "image/png": "[encoded data removed]",
      "text/plain": [
       "<Figure size 640x480 with 2 Axes>"
      ]
     },
     "metadata": {},
     "output_type": "display_data"
    }
   ],
   "source": [
    "from xgboost import XGBClassifier\n",
    "model = XGBClassifier(colsample_bytree= 1 , gamma = 0 , max_depth= 12, min_child_weight= 1, n_estimators=1750, reg_alpha= 0, reg_lambda= 0, seed= 0)\n",
    "start_time =timeit.default_timer()\n",
    "model.fit(X_train, Y_train)\n",
    "\n",
    "\n",
    "#Accuracy on training data\n",
    "start_time =timeit.default_timer()\n",
    "x_train_prediction = model.predict(X_train)\n",
    "end_time = timeit.default_timer()\n",
    "elapsed_time = end_time - start_time\n",
    "\n",
    "print(\"Elapsed time : \",elapsed_time)\n",
    "training_data_accuracy = accuracy_score(x_train_prediction , Y_train)\n",
    "print('Accuracy on Training data : , ', training_data_accuracy)\n",
    "\n",
    "# accuracy on test data \n",
    "start_time =timeit.default_timer()\n",
    "x_test_prediction = model.predict(X_test)\n",
    "end_time = timeit.default_timer()\n",
    "elapsed_time = end_time - start_time\n",
    "\n",
    "print(\"Elapsed time : \",elapsed_time)\n",
    "test_data_accuracy=accuracy_score(x_test_prediction,Y_test)\n",
    "print('Accuracy score on Test data :' ,test_data_accuracy)\n",
    "generate_model_report(Y_test, x_test_prediction)\n",
    "\n",
    "confusion_matrix(x_test_prediction,Y_test)\n",
    "cf_matrix=confusion_matrix(x_test_prediction,Y_test)\n",
    "print(cf_matrix)\n",
    "sns.heatmap(cf_matrix, annot=True, cmap='Blues')"
   ]
  },
  {
   "cell_type": "markdown",
   "metadata": {},
   "source": [
    "# Random Forest "
   ]
  },
  {
   "cell_type": "code",
   "execution_count": 28,
   "metadata": {},
   "outputs": [
    {
     "name": "stderr",
     "output_type": "stream",
     "text": [
      "C:\\Users\\almah\\AppData\\Roaming\\Python\\Python311\\site-packages\\sklearn\\base.py:1152: DataConversionWarning: A column-vector y was passed when a 1d array was expected. Please change the shape of y to (n_samples,), for example using ravel().\n",
      "  return fit_method(estimator, *args, **kwargs)\n"
     ]
    },
    {
     "name": "stdout",
     "output_type": "stream",
     "text": [
      "Elapsed time :  3.533302199910395\n",
      "Accuracy on Training data : ,  1.0\n",
      "Elapsed time :  0.42590159992687404\n",
      "Accuracy score on Test data : 0.9994908886626171\n",
      "Accuracy =  0.9994908886626171\n",
      "Precision =  0.9278350515463918\n",
      "Recall =  0.8035714285714286\n",
      "F1 Score =  0.8612440191387559\n",
      "[[56843    22]\n",
      " [    7    90]]\n"
     ]
    },
    {
     "data": {
      "text/plain": [
       "<Axes: >"
      ]
     },
     "execution_count": 28,
     "metadata": {},
     "output_type": "execute_result"
    },
    {
     "data": {
      "image/png": "[encoded data removed]",
      "text/plain": [
       "<Figure size 640x480 with 2 Axes>"
      ]
     },
     "metadata": {},
     "output_type": "display_data"
    }
   ],
   "source": [
    "from sklearn.ensemble import RandomForestClassifier\n",
    "rf = RandomForestClassifier(n_jobs=4, random_state=2018,criterion='gini',n_estimators=100,verbose=False)\n",
    "\n",
    "rf.fit(X_train, Y_train)\n",
    "\n",
    "\n",
    "start_time = timeit.default_timer()\n",
    "\n",
    "x_train_prediction = rf.predict(X_train)\n",
    "end_time = timeit.default_timer()\n",
    "elapsed_time = end_time - start_time\n",
    "\n",
    "print(\"Elapsed time : \",elapsed_time)\n",
    "\n",
    "training_data_accuracy = accuracy_score(x_train_prediction , Y_train)\n",
    "print('Accuracy on Training data : , ', training_data_accuracy)\n",
    "\n",
    "# accuracy on test data \n",
    "start_time = timeit.default_timer()\n",
    "x_test_prediction = rf.predict(X_test)\n",
    "end_time = timeit.default_timer()\n",
    "elapsed_time = end_time - start_time\n",
    "\n",
    "print(\"Elapsed time : \",elapsed_time)\n",
    "\n",
    "test_data_accuracy=accuracy_score(x_test_prediction,Y_test)\n",
    "print('Accuracy score on Test data :' ,test_data_accuracy)\n",
    "\n",
    "generate_model_report(Y_test, x_test_prediction)\n",
    "\n",
    "cf_matrix=confusion_matrix(x_test_prediction,Y_test)\n",
    "print(cf_matrix)\n",
    "sns.heatmap(cf_matrix, annot=True, cmap='Blues')"
   ]
  },
  {
   "cell_type": "code",
   "execution_count": 29,
   "metadata": {},
   "outputs": [
    {
     "name": "stdout",
     "output_type": "stream",
     "text": [
      "Elapsed time :  0.2748067999491468\n",
      "Accuracy on Training data : ,  1.0\n",
      "Elapsed time :  0.045512499986216426\n",
      "Accuracy score on Test data : 0.9977177767634563\n",
      "Accuracy =  0.9977177767634563\n",
      "Precision =  0.45263157894736844\n",
      "Recall =  0.7678571428571429\n",
      "F1 Score =  0.5695364238410596\n",
      "[[56746    26]\n",
      " [  104    86]]\n"
     ]
    },
    {
     "data": {
      "text/plain": [
       "<Axes: >"
      ]
     },
     "execution_count": 29,
     "metadata": {},
     "output_type": "execute_result"
    },
    {
     "data": {
      "image/png": "[encoded data removed]",
      "text/plain": [
       "<Figure size 640x480 with 2 Axes>"
      ]
     },
     "metadata": {},
     "output_type": "display_data"
    }
   ],
   "source": [
    "from sklearn import tree\n",
    "classify_ = tree.DecisionTreeClassifier(criterion= 'entropy', max_depth= 37, min_samples_leaf= 2, min_samples_split= 3,max_features=15,max_leaf_nodes=1200,splitter='best')\n",
    "\n",
    "\n",
    "classify_ = classify_.fit(X_train,Y_train)\n",
    "\n",
    "\n",
    "\n",
    "#Accuracy on training data\n",
    "start_time = timeit.default_timer()\n",
    "x_train_prediction = classify_.predict(X_train)\n",
    "end_time = timeit.default_timer()\n",
    "elapsed_time = end_time - start_time\n",
    "\n",
    "print(\"Elapsed time : \",elapsed_time)\n",
    "training_data_accuracy = accuracy_score(x_train_prediction , Y_train)\n",
    "print('Accuracy on Training data : , ', training_data_accuracy)\n",
    "\n",
    "# accuracy on test data \n",
    "start_time = timeit.default_timer()\n",
    "x_test_prediction = classify_.predict(X_test)\n",
    "end_time = timeit.default_timer()\n",
    "elapsed_time = end_time - start_time\n",
    "print(\"Elapsed time : \",elapsed_time)\n",
    "\n",
    "test_data_accuracy=accuracy_score(x_test_prediction,Y_test)\n",
    "print('Accuracy score on Test data :' ,test_data_accuracy)\n",
    "\n",
    "generate_model_report(Y_test, x_test_prediction)\n",
    "\n",
    "\n",
    "cf_matrix=confusion_matrix(x_test_prediction,Y_test)\n",
    "print(cf_matrix)\n",
    "sns.heatmap(cf_matrix, annot=True, cmap='Blues')"
   ]
  },
  {
   "cell_type": "code",
   "execution_count": 30,
   "metadata": {},
   "outputs": [
    {
     "name": "stderr",
     "output_type": "stream",
     "text": [
      "C:\\Users\\almah\\AppData\\Roaming\\Python\\Python311\\site-packages\\sklearn\\neural_network\\_multilayer_perceptron.py:1102: DataConversionWarning: A column-vector y was passed when a 1d array was expected. Please change the shape of y to (n_samples, ), for example using ravel().\n",
      "  y = column_or_1d(y, warn=True)\n"
     ]
    },
    {
     "name": "stdout",
     "output_type": "stream",
     "text": [
      "Elapsed time :  8.672340600052848\n",
      "Accuracy on Training data : ,  0.999936253929176\n",
      "Elapsed time :  1.150645500048995\n",
      "Accuracy score on Test data : 0.9993679997191109\n",
      "Accuracy =  0.9993679997191109\n",
      "Precision =  0.8518518518518519\n",
      "Recall =  0.8214285714285714\n",
      "F1 Score =  0.8363636363636364\n",
      "[[56834    20]\n",
      " [   16    92]]\n"
     ]
    },
    {
     "data": {
      "text/plain": [
       "<Axes: >"
      ]
     },
     "execution_count": 30,
     "metadata": {},
     "output_type": "execute_result"
    },
    {
     "data": {
      "image/png": "[encoded data removed]",
      "text/plain": [
       "<Figure size 640x480 with 2 Axes>"
      ]
     },
     "metadata": {},
     "output_type": "display_data"
    }
   ],
   "source": [
    "from sklearn.neural_network import MLPClassifier\n",
    "\n",
    "MLPC = MLPClassifier(hidden_layer_sizes=(200,), max_iter=10000)\n",
    "#MLPC = MLPClassifier(activation= 'tanh', alpha= 0.0001, hidden_layer_sizes=(8, 45, 30), learning_rate= 'adaptive', max_iter= 4000, solver= 'adam')\n",
    "\n",
    "MLPC.fit(X_train,Y_train)\n",
    "\n",
    "#Accuracy on training data\n",
    "start_time = timeit.default_timer()\n",
    "x_train_prediction = MLPC.predict(X_train)\n",
    "end_time = timeit.default_timer()\n",
    "elapsed_time = end_time - start_time\n",
    "\n",
    "print(\"Elapsed time : \",elapsed_time)\n",
    "\n",
    "\n",
    "training_data_accuracy = accuracy_score(x_train_prediction , Y_train)\n",
    "print('Accuracy on Training data : , ', training_data_accuracy)\n",
    "\n",
    "# accuracy on test data \n",
    "\n",
    "start_time = timeit.default_timer()\n",
    "x_test_prediction = MLPC.predict(X_test)\n",
    "end_time = timeit.default_timer()\n",
    "elapsed_time = end_time - start_time\n",
    "print(\"Elapsed time : \",elapsed_time)\n",
    "\n",
    "test_data_accuracy=accuracy_score(x_test_prediction,Y_test)\n",
    "print('Accuracy score on Test data :' ,test_data_accuracy)\n",
    "\n",
    "generate_model_report(Y_test, x_test_prediction)\n",
    "cf_matrix=confusion_matrix(x_test_prediction,Y_test)\n",
    "print(cf_matrix)\n",
    "sns.heatmap(cf_matrix, annot=True, cmap='Blues')"
   ]
  },
  {
   "cell_type": "code",
   "execution_count": 31,
   "metadata": {},
   "outputs": [
    {
     "name": "stderr",
     "output_type": "stream",
     "text": [
      "C:\\Users\\almah\\AppData\\Roaming\\Python\\Python311\\site-packages\\sklearn\\neighbors\\_classification.py:233: DataConversionWarning: A column-vector y was passed when a 1d array was expected. Please change the shape of y to (n_samples,), for example using ravel().\n",
      "  return self._fit(X, y)\n"
     ]
    },
    {
     "name": "stdout",
     "output_type": "stream",
     "text": [
      "Elapsed time :  1037.9629621000495\n",
      "Accuracy on Training data : ,  1.0\n",
      "Elapsed time :  123.48153200000525\n",
      "Accuracy score on Test data : 0.999385555282469\n",
      "Accuracy =  0.999385555282469\n",
      "Precision =  0.8468468468468469\n",
      "Recall =  0.8392857142857143\n",
      "F1 Score =  0.8430493273542602\n",
      "[[56833    18]\n",
      " [   17    94]]\n"
     ]
    },
    {
     "data": {
      "text/plain": [
       "<Axes: >"
      ]
     },
     "execution_count": 31,
     "metadata": {},
     "output_type": "execute_result"
    },
    {
     "data": {
      "image/png": "[encoded data removed]",
      "text/plain": [
       "<Figure size 640x480 with 2 Axes>"
      ]
     },
     "metadata": {},
     "output_type": "display_data"
    }
   ],
   "source": [
    "from sklearn.neighbors import KNeighborsClassifier \n",
    "#knn = KNeighborsClassifier(n_neighbors =3)\n",
    "knn = KNeighborsClassifier(n_neighbors= 2,metric='minkowski',weights='uniform',algorithm='auto',leaf_size=2)\n",
    "\n",
    "knn.fit(X_train,Y_train)\n",
    "\n",
    "#Accuracy on training data\n",
    "start_time =timeit.default_timer()\n",
    "x_train_prediction = knn.predict(X_train)\n",
    "end_time = timeit.default_timer()\n",
    "elapsed_time = end_time - start_time\n",
    "\n",
    "print(\"Elapsed time : \",elapsed_time)\n",
    "\n",
    "training_data_accuracy = accuracy_score(x_train_prediction , Y_train)\n",
    "print('Accuracy on Training data : , ', training_data_accuracy)\n",
    "# accuracy on test data \n",
    "\n",
    "start_time =timeit.default_timer()\n",
    "x_test_prediction  = knn.predict(X_test)\n",
    "\n",
    "end_time = timeit.default_timer()\n",
    "elapsed_time = end_time - start_time\n",
    "\n",
    "print(\"Elapsed time : \",elapsed_time)\n",
    "test_data_accuracy = accuracy_score(x_test_prediction,Y_test)\n",
    "print('Accuracy score on Test data :' ,test_data_accuracy)\n",
    "generate_model_report(Y_test, x_test_prediction)\n",
    "cf_matrix=confusion_matrix(x_test_prediction,Y_test)\n",
    "print(cf_matrix)\n",
    "sns.heatmap(cf_matrix, annot=True, cmap='Blues')"
   ]
  },
  {
   "cell_type": "code",
   "execution_count": 34,
   "metadata": {},
   "outputs": [
    {
     "data": {
      "image/png": "[encoded data removed]",
      "text/plain": [
       "<Figure size 500x500 with 1 Axes>"
      ]
     },
     "metadata": {},
     "output_type": "display_data"
    }
   ],
   "source": [
    "    y_pred_proba_dt = classify_.predict_proba(X_test)[:, 1]\n",
    "    fpr_dt, tpr_dt, thresholds = roc_curve(Y_test,  y_pred_proba_dt)\n",
    "    auc_dt = roc_auc_score(Y_test, y_pred_proba_dt)\n",
    "    \n",
    "    y_pred_proba_xb = model.predict_proba(X_test)[:, 1]\n",
    "    fpr_xb, tpr_xb, thresholds = roc_curve(Y_test,  y_pred_proba_xb)\n",
    "    auc_xb = roc_auc_score(Y_test, y_pred_proba_xb)\n",
    "    \n",
    "    y_pred_proba_rf = rf.predict_proba(X_test)[:, 1]\n",
    "    fpr_rf, tpr_rf, thresholds = roc_curve(Y_test,  y_pred_proba_rf)\n",
    "    auc_rf = roc_auc_score(Y_test, y_pred_proba_rf)\n",
    "    \n",
    "    y_pred_proba_ann = MLPC.predict_proba(X_test)[:, 1]\n",
    "    fpr_ann, tpr_ann, thresholds = roc_curve(Y_test,  y_pred_proba_ann)\n",
    "    auc_ann = roc_auc_score(Y_test, y_pred_proba_ann)\n",
    "    \n",
    "    y_pred_proba_knn = knn.predict_proba(X_test)[:, 1]\n",
    "    fpr_knn, tpr_knn, thresholds = roc_curve(Y_test,  y_pred_proba_knn)\n",
    "    auc_knn = roc_auc_score(Y_test, y_pred_proba_knn)\n",
    "    \n",
    "    \n",
    "    \n",
    "    plt.figure(figsize=(5, 5), dpi=100)\n",
    "    plt.xlabel('False Positive Rate')\n",
    "    plt.ylabel('True Positive Rate')\n",
    "    \n",
    "    plt.plot(fpr_dt,tpr_dt,linestyle='solid',label=\"DT =\"+str(auc_dt))\n",
    "    plt.plot(fpr_xb,tpr_xb,linestyle='dotted',label=\"XGBoost =\"+str(auc_xb))\n",
    "    plt.plot(fpr_rf,tpr_rf,linestyle='dashed',label=\"RF =\"+str(auc_rf))\n",
    "    plt.plot(fpr_ann,tpr_ann,linestyle='-.',label=\"ANN =\"+str(auc_ann))\n",
    "    plt.plot(fpr_knn,tpr_knn,linestyle='dashdot',label=\"KNN =\"+str(auc_knn))\n",
    "    plt.title(\"ROC-AUC Curve for PCA\")\n",
    "    plt.legend(loc=4)\n",
    "    plt.show()"
   ]
  },
  {
   "cell_type": "markdown",
   "metadata": {},
   "source": [
    "# Precision Recall Curve"
   ]
  },
  {
   "cell_type": "code",
   "execution_count": 33,
   "metadata": {},
   "outputs": [
    {
     "data": {
      "image/png": "[encoded data removed]",
      "text/plain": [
       "<Figure size 500x500 with 1 Axes>"
      ]
     },
     "metadata": {},
     "output_type": "display_data"
    }
   ],
   "source": [
    "from sklearn.metrics import precision_recall_curve\n",
    "from sklearn import metrics\n",
    "#print('Logistic PR-AUC: %.3f'% auc_score)\n",
    "y_test_prob_rf=rf.predict_proba(X_test)[:,1]\n",
    "precision_rf, recall_rf,_ =precision_recall_curve(Y_test, y_test_prob_rf)\n",
    "auc_score_rf=metrics.auc(recall_rf, precision_rf)\n",
    "y_test_prob_xb=model.predict_proba(X_test)[:,1]\n",
    "precision_xb, recall_xb,_ =precision_recall_curve(Y_test, y_test_prob_xb)\n",
    "auc_score_xb=metrics.auc(recall_xb, precision_xb)\n",
    "y_test_prob_dt=classify_.predict_proba(X_test)[:,1]\n",
    "precision_dt, recall_dt,_ =precision_recall_curve(Y_test, y_test_prob_dt)\n",
    "auc_score_dt=metrics.auc(recall_dt, precision_dt)\n",
    "y_test_prob_knn=knn.predict_proba(X_test)[:,1]\n",
    "precision_knn, recall_knn,_ =precision_recall_curve(Y_test, y_test_prob_knn)\n",
    "auc_score_knn=metrics.auc(recall_knn, precision_knn)\n",
    "y_test_prob_ann=MLPC.predict_proba(X_test)[:,1]\n",
    "precision_ann, recall_ann,_ =precision_recall_curve(Y_test, y_test_prob_ann)\n",
    "auc_score_ann=metrics.auc(recall_ann, precision_ann)\n",
    "plt.figure(figsize=(5,5))\n",
    "plt.plot(recall_rf, precision_rf, marker='',label=\"RFC=\"+str(auc_score_rf))\n",
    "plt.plot(recall_knn, precision_knn, marker='',label=\"KNN=\"+str(auc_score_knn))\n",
    "plt.plot(recall_ann, precision_ann, marker='',label=\"ANN=\"+str(auc_score_ann))\n",
    "plt.plot(recall_dt, precision_dt, marker='',label=\"DTC=\"+str(auc_score_dt))\n",
    "plt.plot(recall_xb, precision_xb, marker='',label=\"XGBC=\"+str(auc_score_xb))\n",
    "plt.xlabel(\"Recall\")\n",
    "plt.ylabel(\"Precision\")\n",
    "plt.title(\"Recall-Precision Curve for PCA\")\n",
    "plt.legend()\n",
    "plt.show()"
   ]
  },
  {
   "cell_type": "code",
   "execution_count": null,
   "metadata": {},
   "outputs": [],
   "source": [
    "'''from sklearn.svm import SVC\n",
    "svc=SVC()\n",
    "\n",
    "start_time = timeit.default_timer()\n",
    "svc.fit(X_train,Y_train)\n",
    "\n",
    "end_time = timeit.default_timer()\n",
    "elapsed_time = end_time - start_time\n",
    "\n",
    "print(\"Elapsed time : \",elapsed_time)\n",
    "#Accuracy on training data\n",
    "x_train_prediction = svc.predict(X_train)\n",
    "training_data_accuracy = accuracy_score(x_train_prediction , Y_train)\n",
    "print('Accuracy on Training data : , ', training_data_accuracy)\n",
    "# accuracy on test data \n",
    "x_test_prediction = svc.predict(X_test)\n",
    "test_data_accuracy=accuracy_score(x_test_prediction,Y_test)\n",
    "print('Accuracy score on Test data :' ,test_data_accuracy)\n",
    "generate_model_report(Y_test, x_test_prediction)'''\n"
   ]
  },
  {
   "cell_type": "code",
   "execution_count": null,
   "metadata": {},
   "outputs": [],
   "source": [
    "X_train, X_test, Y_train, Y_test = train_test_split(X, Y, \n",
    "                                                    test_size=0.5, \n",
    "                                                    random_state=42)\n",
    "\n",
    "\n",
    "ax = sns.countplot(x=target, data=df)\n",
    "print(df[target].value_counts())\n",
    "Y_train[target].value_counts()"
   ]
  },
  {
   "cell_type": "code",
   "execution_count": null,
   "metadata": {},
   "outputs": [],
   "source": [
    "sm = SMOTE(random_state=12, sampling_strategy=1.0)\n",
    "x_train_res, y_train_res = sm.fit_resample(X_train, Y_train)\n",
    "unique, count = np.unique(y_train_res, return_counts=True)\n",
    "y_train_smote_value_count = { k:v for (k,v) in zip(unique, count)}\n",
    "y_train_smote_value_count\n",
    "X=x_train_res\n",
    "Y=y_train_res"
   ]
  },
  {
   "cell_type": "markdown",
   "metadata": {},
   "source": [
    "# StandardScaler"
   ]
  },
  {
   "cell_type": "code",
   "execution_count": null,
   "metadata": {},
   "outputs": [],
   "source": [
    "from sklearn.preprocessing import StandardScaler\n",
    "\n",
    "scaler = StandardScaler()\n",
    "X=scaler.fit_transform(X)"
   ]
  },
  {
   "cell_type": "code",
   "execution_count": null,
   "metadata": {},
   "outputs": [],
   "source": [
    "from sklearn.decomposition import PCA\n",
    "\n",
    "pca = PCA(.93)\n",
    "x_pca=pca.fit_transform(X)\n",
    "x_pca"
   ]
  },
  {
   "cell_type": "code",
   "execution_count": null,
   "metadata": {},
   "outputs": [],
   "source": [
    "total_var = pca.explained_variance_ratio_.sum() * 100"
   ]
  },
  {
   "cell_type": "code",
   "execution_count": null,
   "metadata": {},
   "outputs": [],
   "source": [
    "total_var"
   ]
  },
  {
   "cell_type": "code",
   "execution_count": null,
   "metadata": {},
   "outputs": [],
   "source": [
    "'''n_components = 30\n",
    "pca = PCA(n_components=n_components)\n",
    "components = pca.fit_transform(df)\n",
    "\n",
    "total_var = pca.explained_variance_ratio_.sum() * 100\n",
    "\n",
    "labels = {str(i): f\"PC {i+1}\" for i in range(n_components)}\n",
    "labels['color'] = 'Class'\n",
    "\n",
    "fig = px.scatter_matrix(\n",
    "    components,\n",
    "    color=df.Class,\n",
    "    dimensions=range(n_components),\n",
    "    labels=labels,\n",
    "    title=f'Total Explained Variance: {total_var:.2f}%',\n",
    ")\n",
    "fig.update_traces(diagonal_visible=False)\n",
    "fig.show()'''"
   ]
  },
  {
   "cell_type": "code",
   "execution_count": null,
   "metadata": {},
   "outputs": [],
   "source": [
    "'''import plotly.express as px\n",
    "labels = {\n",
    "    str(i): f\"PC {i+1} ({var:.1f}%)\"\n",
    "    for i, var in enumerate(pca.explained_variance_ratio_ * 100)\n",
    "}\n",
    "\n",
    "fig = px.scatter_matrix(\n",
    "    x_pca,\n",
    "    labels=labels,\n",
    "    dimensions=range(17),\n",
    "    color=df[\"Class\"]\n",
    ")\n",
    "fig.update_traces(diagonal_visible=False)\n",
    "fig.show()'''"
   ]
  },
  {
   "cell_type": "code",
   "execution_count": null,
   "metadata": {},
   "outputs": [],
   "source": [
    "'''plt.figure(figsize=(10, 6))\n",
    "components = np.arange(1, 31, step=1)\n",
    "eigenvalues = pca.explained_variance_\n",
    "plt.plot(components, eigenvalues, marker = 'o', \n",
    "                 linestyle = '-')\n",
    "plt.ylim(0, max(eigenvalues))\n",
    "plt.ylabel('Explained variance')\n",
    "plt.xlabel('Number of Components')\n",
    "plt.xticks(np.arange(1, 31, step = 1))\n",
    "plt.title('Scree plot')\n",
    "#plt.axhline(y=1, color = 'b', linestyle = '-')\n",
    "#plt.text(0, 0.75, 'Eigenvalue Cutoff', color = 'r', fontsize=14)\n",
    "#plt.text(15, 1.10, 'Components Needed: '+str(np.where(eigenvalues<=1)[0][0]), color = 'red', fontsize=14)\n",
    "plt.show()'''"
   ]
  },
  {
   "cell_type": "markdown",
   "metadata": {},
   "source": [
    "# Eigen values"
   ]
  },
  {
   "cell_type": "code",
   "execution_count": null,
   "metadata": {},
   "outputs": [],
   "source": [
    "pca.explained_variance_"
   ]
  },
  {
   "cell_type": "markdown",
   "metadata": {},
   "source": [
    "# Eigen Vector"
   ]
  },
  {
   "cell_type": "code",
   "execution_count": null,
   "metadata": {},
   "outputs": [],
   "source": [
    "pca.components_"
   ]
  },
  {
   "cell_type": "markdown",
   "metadata": {},
   "source": []
  },
  {
   "cell_type": "code",
   "execution_count": null,
   "metadata": {},
   "outputs": [],
   "source": [
    "pca.explained_variance_ratio_"
   ]
  },
  {
   "cell_type": "code",
   "execution_count": null,
   "metadata": {},
   "outputs": [],
   "source": [
    "explained_variance = pca.explained_variance_\n",
    "explained_variance"
   ]
  },
  {
   "cell_type": "code",
   "execution_count": null,
   "metadata": {},
   "outputs": [],
   "source": [
    "plt.bar(\n",
    "    range(1,len(pca.explained_variance_)+1),\n",
    "    pca.explained_variance_\n",
    "    )\n",
    "\n",
    "\n",
    "plt.xlabel('Principal component')\n",
    "plt.ylabel('Explained variance')\n",
    "plt.title('Feature Explained Variance')\n",
    "plt.show()"
   ]
  },
  {
   "cell_type": "code",
   "execution_count": null,
   "metadata": {},
   "outputs": [],
   "source": [
    "explained_var_ratio = pca.explained_variance_ratio_\n",
    "print('explained_var_ratio',explained_var_ratio)\n",
    "cumulative_var_ratio = np.cumsum(explained_var_ratio)\n",
    "print('cumulative_var_ratio',cumulative_var_ratio)\n",
    "plt.plot(range(1, len(cumulative_var_ratio) + 1), cumulative_var_ratio, marker='o')\n",
    "plt.xlabel('Number of Principal Components')\n",
    "plt.ylabel('Cumulative Explained Variance')\n",
    "plt.title('Explained Variance Ratio vs. Number of Principal Components')\n",
    "plt.show()"
   ]
  },
  {
   "cell_type": "code",
   "execution_count": null,
   "metadata": {},
   "outputs": [],
   "source": [
    "var1=np.cumsum(np.round(pca.explained_variance_ratio_, decimals=4)*100)\n",
    "print(var1)"
   ]
  },
  {
   "cell_type": "code",
   "execution_count": null,
   "metadata": {},
   "outputs": [],
   "source": [
    "plt.plot(var1)"
   ]
  },
  {
   "cell_type": "code",
   "execution_count": null,
   "metadata": {},
   "outputs": [],
   "source": [
    "X.shape"
   ]
  },
  {
   "cell_type": "code",
   "execution_count": null,
   "metadata": {},
   "outputs": [],
   "source": [
    "x_pca.shape"
   ]
  },
  {
   "cell_type": "code",
   "execution_count": null,
   "metadata": {},
   "outputs": [],
   "source": [
    "pca.n_components_"
   ]
  },
  {
   "cell_type": "code",
   "execution_count": null,
   "metadata": {},
   "outputs": [],
   "source": [
    "x_pca"
   ]
  },
  {
   "cell_type": "markdown",
   "metadata": {},
   "source": [
    "# PC1 Vs PC2"
   ]
  },
  {
   "cell_type": "code",
   "execution_count": null,
   "metadata": {},
   "outputs": [],
   "source": [
    "import seaborn as sns\n",
    "plt.figure(figsize=(10,6))\n",
    "sns.scatterplot(\n",
    "    x=\"PC 1\", y=\"PC 2\",\n",
    "    hue=\"Class\",\n",
    "    palette=sns.color_palette(\"tab10\", 2),\n",
    "    data=principal_cifar_Df,\n",
    "    legend=\"full\",\n",
    "    alpha=0.3\n",
    ")"
   ]
  },
  {
   "cell_type": "code",
   "execution_count": null,
   "metadata": {},
   "outputs": [],
   "source": [
    "X_train, X_test, Y_train, Y_test = train_test_split(x_pca, Y, test_size=0.2, random_state=30)\n"
   ]
  },
  {
   "cell_type": "markdown",
   "metadata": {},
   "source": [
    "# Logistic regression"
   ]
  },
  {
   "cell_type": "code",
   "execution_count": null,
   "metadata": {},
   "outputs": [],
   "source": [
    "\n",
    "logModel = LogisticRegression()\n",
    "start_time = perf_counter()\n",
    "logModel.fit(X_train, Y_train)\n",
    "end_time = perf_counter()\n",
    "elapsed_time = end_time - start_time\n",
    "\n",
    "print(\"Elapsed time : \",elapsed_time)\n",
    "\n",
    "#Accuracy on training data\n",
    "x_train_prediction = logModel.predict(X_train)\n",
    "training_data_accuracy = accuracy_score(x_train_prediction , Y_train)\n",
    "print('Accuracy on Training data : , ', training_data_accuracy)\n",
    "\n",
    "# accuracy on test data \n",
    "x_test_prediction = logModel.predict(X_test)\n",
    "test_data_accuracy=accuracy_score(x_test_prediction,Y_test)\n",
    "print('Accuracy score on Test data :' ,test_data_accuracy)\n",
    "generate_model_report(Y_test, x_test_prediction)\n"
   ]
  },
  {
   "cell_type": "markdown",
   "metadata": {},
   "source": [
    "# Decision Tree"
   ]
  },
  {
   "cell_type": "code",
   "execution_count": null,
   "metadata": {},
   "outputs": [],
   "source": [
    "\n",
    "from sklearn import tree\n",
    "classify_ = tree.DecisionTreeClassifier()\n",
    "\n",
    "start_time = timeit.default_timer()\n",
    "classify_ = classify_.fit(X_train,Y_train)\n",
    "\n",
    "end_time = timeit.default_timer()\n",
    "elapsed_time = end_time - start_time\n",
    "\n",
    "print(\"Elapsed time : \",elapsed_time)\n",
    "generate_model_report(Y_test, x_test_prediction)\n",
    "\n",
    "\n",
    "\n",
    "#Accuracy on training data\n",
    "x_train_prediction = classify_.predict(X_train)\n",
    "training_data_accuracy = accuracy_score(x_train_prediction , Y_train)\n",
    "print('Accuracy on Training data : , ', training_data_accuracy)\n",
    "\n",
    "# accuracy on test data \n",
    "x_test_prediction = classify_.predict(X_test)\n",
    "test_data_accuracy=accuracy_score(x_test_prediction,Y_test)\n",
    "print('Accuracy score on Test data :' ,test_data_accuracy)\n",
    "\n"
   ]
  },
  {
   "cell_type": "markdown",
   "metadata": {},
   "source": [
    "# ANN"
   ]
  },
  {
   "cell_type": "code",
   "execution_count": null,
   "metadata": {},
   "outputs": [],
   "source": [
    "\n",
    "from sklearn.neural_network import MLPClassifier\n",
    "\n",
    "MLPC = MLPClassifier(hidden_layer_sizes=(200,), max_iter=10000)\n",
    "\n",
    "start_time = timeit.default_timer()\n",
    "MLPC.fit(X_train,Y_train)\n",
    "end_time = timeit.default_timer()\n",
    "elapsed_time = end_time - start_time\n",
    "\n",
    "print(\"Elapsed time : \",elapsed_time)\n",
    "\n",
    "\n",
    "#Accuracy on training data\n",
    "x_train_prediction = MLPC.predict(X_train)\n",
    "training_data_accuracy = accuracy_score(x_train_prediction , Y_train)\n",
    "print('Accuracy on Training data : , ', training_data_accuracy)\n",
    "\n",
    "# accuracy on test data \n",
    "x_test_prediction = MLPC.predict(X_test)\n",
    "test_data_accuracy=accuracy_score(x_test_prediction,Y_test)\n",
    "print('Accuracy score on Test data :' ,test_data_accuracy)\n",
    "\n",
    "generate_model_report(Y_test, x_test_prediction)\n"
   ]
  },
  {
   "cell_type": "markdown",
   "metadata": {},
   "source": [
    "# Random Forest"
   ]
  },
  {
   "cell_type": "code",
   "execution_count": null,
   "metadata": {},
   "outputs": [],
   "source": [
    "\n",
    "from sklearn.ensemble import RandomForestClassifier\n",
    "rf = RandomForestClassifier(n_jobs=4, \n",
    "                             random_state=2018,\n",
    "                             criterion='gini',\n",
    "                             n_estimators=100,\n",
    "                             verbose=False)\n",
    "start_time = timeit.default_timer()\n",
    "\n",
    "rf.fit(X_train, Y_train)\n",
    "\n",
    "end_time = timeit.default_timer()\n",
    "elapsed_time = end_time - start_time\n",
    "\n",
    "print(\"Elapsed time : \",elapsed_time)\n",
    "x_train_prediction = rf.predict(X_train)\n",
    "training_data_accuracy = accuracy_score(x_train_prediction , Y_train)\n",
    "print('Accuracy on Training data : , ', training_data_accuracy)\n",
    "\n",
    "# accuracy on test data \n",
    "x_test_prediction = rf.predict(X_test)\n",
    "test_data_accuracy=accuracy_score(x_test_prediction,Y_test)\n",
    "print('Accuracy score on Test data :' ,test_data_accuracy)\n",
    "\n",
    "generate_model_report(Y_test, x_test_prediction)\n"
   ]
  },
  {
   "cell_type": "markdown",
   "metadata": {},
   "source": [
    "# KNN"
   ]
  },
  {
   "cell_type": "code",
   "execution_count": null,
   "metadata": {},
   "outputs": [],
   "source": [
    "from sklearn.neighbors import KNeighborsClassifier \n",
    "model = KNeighborsClassifier(n_neighbors =3)\n",
    "start_time =timeit.default_timer()\n",
    "model.fit(X_train,Y_train)\n",
    "\n",
    "end_time = timeit.default_timer()\n",
    "elapsed_time = end_time - start_time\n",
    "\n",
    "print(\"Elapsed time : \",elapsed_time)\n",
    "#Accuracy on training data\n",
    "x_train_prediction = model.predict(X_train)\n",
    "training_data_accuracy = accuracy_score(x_train_prediction , Y_train)\n",
    "print('Accuracy on Training data : , ', training_data_accuracy)\n",
    "# accuracy on test data \n",
    "x_test_prediction  = model.predict(X_test)\n",
    "test_data_accuracy = accuracy_score(x_test_prediction,Y_test)\n",
    "print('Accuracy score on Test data :' ,test_data_accuracy)\n",
    "Y_Test_Pred = model.predict(X_test)\n",
    "generate_model_report(Y_test, Y_Test_Pred)\n"
   ]
  },
  {
   "cell_type": "markdown",
   "metadata": {},
   "source": [
    "# NB"
   ]
  },
  {
   "cell_type": "code",
   "execution_count": null,
   "metadata": {},
   "outputs": [],
   "source": [
    "\n",
    "from sklearn.naive_bayes import BernoulliNB\n",
    "model = BernoulliNB()\n",
    "\n",
    "start_time = timeit.default_timer()\n",
    "model.fit(X_train,Y_train)\n",
    "\n",
    "end_time = timeit.default_timer()\n",
    "elapsed_time = end_time - start_time\n",
    "\n",
    "print(\"Elapsed time : \",elapsed_time)\n",
    "\n",
    "#Accuracy on training data\n",
    "x_train_prediction = model.predict(X_train)\n",
    "training_data_accuracy = accuracy_score(x_train_prediction , Y_train)\n",
    "print('Accuracy on Training data : , ', training_data_accuracy)\n",
    "# accuracy on test data \n",
    "x_test_prediction = model.predict(X_test)\n",
    "test_data_accuracy=accuracy_score(x_test_prediction,Y_test)\n",
    "print('Accuracy score on Test data :' ,test_data_accuracy)\n",
    "generate_model_report(Y_test, x_test_prediction)\n",
    "\n"
   ]
  },
  {
   "cell_type": "markdown",
   "metadata": {},
   "source": [
    "# SVM"
   ]
  },
  {
   "cell_type": "code",
   "execution_count": null,
   "metadata": {},
   "outputs": [],
   "source": [
    "\n",
    "from sklearn.svm import SVC\n",
    "svc=SVC()\n",
    "\n",
    "start_time = timeit.default_timer()\n",
    "svc.fit(X_train,Y_train)\n",
    "\n",
    "end_time = timeit.default_timer()\n",
    "elapsed_time = end_time - start_time\n",
    "\n",
    "print(\"Elapsed time : \",elapsed_time)\n",
    "#Accuracy on training data\n",
    "x_train_prediction = svc.predict(X_train)\n",
    "training_data_accuracy = accuracy_score(x_train_prediction , Y_train)\n",
    "print('Accuracy on Training data : , ', training_data_accuracy)\n",
    "# accuracy on test data \n",
    "x_test_prediction = svc.predict(X_test)\n",
    "test_data_accuracy=accuracy_score(x_test_prediction,Y_test)\n",
    "print('Accuracy score on Test data :' ,test_data_accuracy)\n",
    "generate_model_report(Y_test, x_test_prediction)\n"
   ]
  },
  {
   "cell_type": "markdown",
   "metadata": {},
   "source": [
    "# SVM(kernel=linear)"
   ]
  },
  {
   "cell_type": "code",
   "execution_count": null,
   "metadata": {},
   "outputs": [],
   "source": [
    "from sklearn.svm import SVC\n",
    "svc=SVC(kernel='linear')\n",
    "\n",
    "start_time = timeit.default_timer()\n",
    "svc.fit(X_train,Y_train)\n",
    "\n",
    "end_time = timeit.default_timer()\n",
    "elapsed_time = end_time - start_time\n",
    "\n",
    "print(\"Elapsed time : \",elapsed_time)\n",
    "#Accuracy on training data\n",
    "x_train_prediction = svc.predict(X_train)\n",
    "training_data_accuracy = accuracy_score(x_train_prediction , Y_train)\n",
    "print('Accuracy on Training data : , ', training_data_accuracy)\n",
    "# accuracy on test data \n",
    "x_test_prediction = svc.predict(X_test)\n",
    "test_data_accuracy=accuracy_score(x_test_prediction,Y_test)\n",
    "print('Accuracy score on Test data :' ,test_data_accuracy)\n",
    "generate_model_report(Y_test, x_test_prediction)\n"
   ]
  },
  {
   "cell_type": "markdown",
   "metadata": {},
   "source": []
  }
 ],
 "metadata": {
  "kaggle": {
   "accelerator": "none",
   "dataSources": [
    {
     "datasetId": 4383197,
     "sourceId": 7524966,
     "sourceType": "datasetVersion"
    }
   ],
   "dockerImageVersionId": 30646,
   "isGpuEnabled": false,
   "isInternetEnabled": false,
   "language": "python",
   "sourceType": "notebook"
  },
  "kernelspec": {
   "display_name": "Python 3 (ipykernel)",
   "language": "python",
   "name": "python3"
  },
  "language_info": {
   "codemirror_mode": {
    "name": "ipython",
    "version": 3
   },
   "file_extension": ".py",
   "mimetype": "text/x-python",
   "name": "python",
   "nbconvert_exporter": "python",
   "pygments_lexer": "ipython3",
   "version": "3.11.5"
  }
 },
 "nbformat": 4,
 "nbformat_minor": 4
}
